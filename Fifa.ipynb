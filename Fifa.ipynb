{
  "nbformat": 4,
  "nbformat_minor": 0,
  "metadata": {
    "colab": {
      "provenance": []
    },
    "kernelspec": {
      "name": "python3",
      "display_name": "Python 3"
    },
    "language_info": {
      "name": "python"
    }
  },
  "cells": [
    {
      "cell_type": "markdown",
      "source": [
        "###Objective : Predicting the position of the player based on characteristics"
      ],
      "metadata": {
        "id": "mNvmTRzpw5nS"
      }
    },
    {
      "cell_type": "code",
      "source": [
        "import pandas as pd\n",
        "import numpy as np\n",
        "import matplotlib.pyplot as plt\n",
        "import seaborn as sns"
      ],
      "metadata": {
        "id": "R1IsCNAAw5Qg"
      },
      "execution_count": 5,
      "outputs": []
    },
    {
      "cell_type": "code",
      "execution_count": 9,
      "metadata": {
        "colab": {
          "base_uri": "https://localhost:8080/"
        },
        "id": "OU5TfKPVwxWQ",
        "outputId": "2689bdce-7c4b-47ff-9dbc-8440a8686216"
      },
      "outputs": [
        {
          "output_type": "stream",
          "name": "stdout",
          "text": [
            "<class 'pandas.core.frame.DataFrame'>\n",
            "RangeIndex: 18539 entries, 0 to 18538\n",
            "Data columns (total 90 columns):\n",
            " #   Column             Non-Null Count  Dtype  \n",
            "---  ------             --------------  -----  \n",
            " 0   ID                 18539 non-null  int64  \n",
            " 1   Name               18539 non-null  object \n",
            " 2   FullName           18539 non-null  object \n",
            " 3   Age                18539 non-null  int64  \n",
            " 4   Height             18539 non-null  int64  \n",
            " 5   Weight             18539 non-null  int64  \n",
            " 6   PhotoUrl           18539 non-null  object \n",
            " 7   Nationality        18539 non-null  object \n",
            " 8   Overall            18539 non-null  int64  \n",
            " 9   Potential          18539 non-null  int64  \n",
            " 10  Growth             18539 non-null  int64  \n",
            " 11  TotalStats         18539 non-null  int64  \n",
            " 12  BaseStats          18539 non-null  int64  \n",
            " 13  Positions          18539 non-null  object \n",
            " 14  BestPosition       18539 non-null  object \n",
            " 15  Club               18539 non-null  object \n",
            " 16  ValueEUR           18539 non-null  int64  \n",
            " 17  WageEUR            18539 non-null  int64  \n",
            " 18  ReleaseClause      18539 non-null  int64  \n",
            " 19  ClubPosition       18447 non-null  object \n",
            " 20  ContractUntil      18447 non-null  float64\n",
            " 21  ClubNumber         18447 non-null  float64\n",
            " 22  ClubJoined         18539 non-null  int64  \n",
            " 23  OnLoad             18539 non-null  bool   \n",
            " 24  NationalTeam       18539 non-null  object \n",
            " 25  NationalPosition   817 non-null    object \n",
            " 26  NationalNumber     817 non-null    float64\n",
            " 27  PreferredFoot      18539 non-null  object \n",
            " 28  IntReputation      18539 non-null  int64  \n",
            " 29  WeakFoot           18539 non-null  int64  \n",
            " 30  SkillMoves         18539 non-null  int64  \n",
            " 31  AttackingWorkRate  18539 non-null  object \n",
            " 32  DefensiveWorkRate  18539 non-null  object \n",
            " 33  PaceTotal          18539 non-null  int64  \n",
            " 34  ShootingTotal      18539 non-null  int64  \n",
            " 35  PassingTotal       18539 non-null  int64  \n",
            " 36  DribblingTotal     18539 non-null  int64  \n",
            " 37  DefendingTotal     18539 non-null  int64  \n",
            " 38  PhysicalityTotal   18539 non-null  int64  \n",
            " 39  Crossing           18539 non-null  int64  \n",
            " 40  Finishing          18539 non-null  int64  \n",
            " 41  HeadingAccuracy    18539 non-null  int64  \n",
            " 42  ShortPassing       18539 non-null  int64  \n",
            " 43  Volleys            18539 non-null  int64  \n",
            " 44  Dribbling          18539 non-null  int64  \n",
            " 45  Curve              18539 non-null  int64  \n",
            " 46  FKAccuracy         18539 non-null  int64  \n",
            " 47  LongPassing        18539 non-null  int64  \n",
            " 48  BallControl        18539 non-null  int64  \n",
            " 49  Acceleration       18539 non-null  int64  \n",
            " 50  SprintSpeed        18539 non-null  int64  \n",
            " 51  Agility            18539 non-null  int64  \n",
            " 52  Reactions          18539 non-null  int64  \n",
            " 53  Balance            18539 non-null  int64  \n",
            " 54  ShotPower          18539 non-null  int64  \n",
            " 55  Jumping            18539 non-null  int64  \n",
            " 56  Stamina            18539 non-null  int64  \n",
            " 57  Strength           18539 non-null  int64  \n",
            " 58  LongShots          18539 non-null  int64  \n",
            " 59  Aggression         18539 non-null  int64  \n",
            " 60  Interceptions      18539 non-null  int64  \n",
            " 61  Positioning        18539 non-null  int64  \n",
            " 62  Vision             18539 non-null  int64  \n",
            " 63  Penalties          18539 non-null  int64  \n",
            " 64  Composure          18539 non-null  int64  \n",
            " 65  Marking            18539 non-null  int64  \n",
            " 66  StandingTackle     18539 non-null  int64  \n",
            " 67  SlidingTackle      18539 non-null  int64  \n",
            " 68  GKDiving           18539 non-null  int64  \n",
            " 69  GKHandling         18539 non-null  int64  \n",
            " 70  GKKicking          18539 non-null  int64  \n",
            " 71  GKPositioning      18539 non-null  int64  \n",
            " 72  GKReflexes         18539 non-null  int64  \n",
            " 73  STRating           18539 non-null  int64  \n",
            " 74  LWRating           18539 non-null  int64  \n",
            " 75  LFRating           18539 non-null  int64  \n",
            " 76  CFRating           18539 non-null  int64  \n",
            " 77  RFRating           18539 non-null  int64  \n",
            " 78  RWRating           18539 non-null  int64  \n",
            " 79  CAMRating          18539 non-null  int64  \n",
            " 80  LMRating           18539 non-null  int64  \n",
            " 81  CMRating           18539 non-null  int64  \n",
            " 82  RMRating           18539 non-null  int64  \n",
            " 83  LWBRating          18539 non-null  int64  \n",
            " 84  CDMRating          18539 non-null  int64  \n",
            " 85  RWBRating          18539 non-null  int64  \n",
            " 86  LBRating           18539 non-null  int64  \n",
            " 87  CBRating           18539 non-null  int64  \n",
            " 88  RBRating           18539 non-null  int64  \n",
            " 89  GKRating           18539 non-null  int64  \n",
            "dtypes: bool(1), float64(3), int64(73), object(13)\n",
            "memory usage: 12.6+ MB\n"
          ]
        }
      ],
      "source": [
        "df=pd.read_csv('/content/players_fifa23 (1).csv')\n",
        "df.info()"
      ]
    },
    {
      "cell_type": "code",
      "source": [
        "df.head()"
      ],
      "metadata": {
        "colab": {
          "base_uri": "https://localhost:8080/",
          "height": 325
        },
        "id": "7JaRldhOxxKI",
        "outputId": "f9e1ac52-76a5-4e32-8189-f4701c213119"
      },
      "execution_count": 10,
      "outputs": [
        {
          "output_type": "execute_result",
          "data": {
            "text/plain": [
              "       ID            Name            FullName  Age  Height  Weight  \\\n",
              "0  158023        L. Messi        Lionel Messi   35     169      67   \n",
              "1  165153      K. Benzema       Karim Benzema   34     185      81   \n",
              "2  188545  R. Lewandowski  Robert Lewandowski   33     185      81   \n",
              "3  192985    K. De Bruyne     Kevin De Bruyne   31     181      70   \n",
              "4  231747       K. Mbappé       Kylian Mbappé   23     182      73   \n",
              "\n",
              "                                           PhotoUrl Nationality  Overall  \\\n",
              "0  https://cdn.sofifa.net/players/158/023/23_60.png   Argentina       91   \n",
              "1  https://cdn.sofifa.net/players/165/153/23_60.png      France       91   \n",
              "2  https://cdn.sofifa.net/players/188/545/23_60.png      Poland       91   \n",
              "3  https://cdn.sofifa.net/players/192/985/23_60.png     Belgium       91   \n",
              "4  https://cdn.sofifa.net/players/231/747/23_60.png      France       91   \n",
              "\n",
              "   Potential  ...  LMRating  CMRating  RMRating LWBRating CDMRating RWBRating  \\\n",
              "0         91  ...        91        88        91        67        66        67   \n",
              "1         91  ...        89        84        89        67        67        67   \n",
              "2         91  ...        86        83        86        67        69        67   \n",
              "3         91  ...        91        91        91        82        82        82   \n",
              "4         95  ...        92        84        92        70        66        70   \n",
              "\n",
              "   LBRating  CBRating  RBRating GKRating  \n",
              "0        62        53        62       22  \n",
              "1        63        58        63       21  \n",
              "2        64        63        64       22  \n",
              "3        78        72        78       24  \n",
              "4        66        57        66       21  \n",
              "\n",
              "[5 rows x 90 columns]"
            ],
            "text/html": [
              "\n",
              "  <div id=\"df-33df0b24-8e2f-4bf4-bc01-3e55a2da2727\" class=\"colab-df-container\">\n",
              "    <div>\n",
              "<style scoped>\n",
              "    .dataframe tbody tr th:only-of-type {\n",
              "        vertical-align: middle;\n",
              "    }\n",
              "\n",
              "    .dataframe tbody tr th {\n",
              "        vertical-align: top;\n",
              "    }\n",
              "\n",
              "    .dataframe thead th {\n",
              "        text-align: right;\n",
              "    }\n",
              "</style>\n",
              "<table border=\"1\" class=\"dataframe\">\n",
              "  <thead>\n",
              "    <tr style=\"text-align: right;\">\n",
              "      <th></th>\n",
              "      <th>ID</th>\n",
              "      <th>Name</th>\n",
              "      <th>FullName</th>\n",
              "      <th>Age</th>\n",
              "      <th>Height</th>\n",
              "      <th>Weight</th>\n",
              "      <th>PhotoUrl</th>\n",
              "      <th>Nationality</th>\n",
              "      <th>Overall</th>\n",
              "      <th>Potential</th>\n",
              "      <th>...</th>\n",
              "      <th>LMRating</th>\n",
              "      <th>CMRating</th>\n",
              "      <th>RMRating</th>\n",
              "      <th>LWBRating</th>\n",
              "      <th>CDMRating</th>\n",
              "      <th>RWBRating</th>\n",
              "      <th>LBRating</th>\n",
              "      <th>CBRating</th>\n",
              "      <th>RBRating</th>\n",
              "      <th>GKRating</th>\n",
              "    </tr>\n",
              "  </thead>\n",
              "  <tbody>\n",
              "    <tr>\n",
              "      <th>0</th>\n",
              "      <td>158023</td>\n",
              "      <td>L. Messi</td>\n",
              "      <td>Lionel Messi</td>\n",
              "      <td>35</td>\n",
              "      <td>169</td>\n",
              "      <td>67</td>\n",
              "      <td>https://cdn.sofifa.net/players/158/023/23_60.png</td>\n",
              "      <td>Argentina</td>\n",
              "      <td>91</td>\n",
              "      <td>91</td>\n",
              "      <td>...</td>\n",
              "      <td>91</td>\n",
              "      <td>88</td>\n",
              "      <td>91</td>\n",
              "      <td>67</td>\n",
              "      <td>66</td>\n",
              "      <td>67</td>\n",
              "      <td>62</td>\n",
              "      <td>53</td>\n",
              "      <td>62</td>\n",
              "      <td>22</td>\n",
              "    </tr>\n",
              "    <tr>\n",
              "      <th>1</th>\n",
              "      <td>165153</td>\n",
              "      <td>K. Benzema</td>\n",
              "      <td>Karim Benzema</td>\n",
              "      <td>34</td>\n",
              "      <td>185</td>\n",
              "      <td>81</td>\n",
              "      <td>https://cdn.sofifa.net/players/165/153/23_60.png</td>\n",
              "      <td>France</td>\n",
              "      <td>91</td>\n",
              "      <td>91</td>\n",
              "      <td>...</td>\n",
              "      <td>89</td>\n",
              "      <td>84</td>\n",
              "      <td>89</td>\n",
              "      <td>67</td>\n",
              "      <td>67</td>\n",
              "      <td>67</td>\n",
              "      <td>63</td>\n",
              "      <td>58</td>\n",
              "      <td>63</td>\n",
              "      <td>21</td>\n",
              "    </tr>\n",
              "    <tr>\n",
              "      <th>2</th>\n",
              "      <td>188545</td>\n",
              "      <td>R. Lewandowski</td>\n",
              "      <td>Robert Lewandowski</td>\n",
              "      <td>33</td>\n",
              "      <td>185</td>\n",
              "      <td>81</td>\n",
              "      <td>https://cdn.sofifa.net/players/188/545/23_60.png</td>\n",
              "      <td>Poland</td>\n",
              "      <td>91</td>\n",
              "      <td>91</td>\n",
              "      <td>...</td>\n",
              "      <td>86</td>\n",
              "      <td>83</td>\n",
              "      <td>86</td>\n",
              "      <td>67</td>\n",
              "      <td>69</td>\n",
              "      <td>67</td>\n",
              "      <td>64</td>\n",
              "      <td>63</td>\n",
              "      <td>64</td>\n",
              "      <td>22</td>\n",
              "    </tr>\n",
              "    <tr>\n",
              "      <th>3</th>\n",
              "      <td>192985</td>\n",
              "      <td>K. De Bruyne</td>\n",
              "      <td>Kevin De Bruyne</td>\n",
              "      <td>31</td>\n",
              "      <td>181</td>\n",
              "      <td>70</td>\n",
              "      <td>https://cdn.sofifa.net/players/192/985/23_60.png</td>\n",
              "      <td>Belgium</td>\n",
              "      <td>91</td>\n",
              "      <td>91</td>\n",
              "      <td>...</td>\n",
              "      <td>91</td>\n",
              "      <td>91</td>\n",
              "      <td>91</td>\n",
              "      <td>82</td>\n",
              "      <td>82</td>\n",
              "      <td>82</td>\n",
              "      <td>78</td>\n",
              "      <td>72</td>\n",
              "      <td>78</td>\n",
              "      <td>24</td>\n",
              "    </tr>\n",
              "    <tr>\n",
              "      <th>4</th>\n",
              "      <td>231747</td>\n",
              "      <td>K. Mbappé</td>\n",
              "      <td>Kylian Mbappé</td>\n",
              "      <td>23</td>\n",
              "      <td>182</td>\n",
              "      <td>73</td>\n",
              "      <td>https://cdn.sofifa.net/players/231/747/23_60.png</td>\n",
              "      <td>France</td>\n",
              "      <td>91</td>\n",
              "      <td>95</td>\n",
              "      <td>...</td>\n",
              "      <td>92</td>\n",
              "      <td>84</td>\n",
              "      <td>92</td>\n",
              "      <td>70</td>\n",
              "      <td>66</td>\n",
              "      <td>70</td>\n",
              "      <td>66</td>\n",
              "      <td>57</td>\n",
              "      <td>66</td>\n",
              "      <td>21</td>\n",
              "    </tr>\n",
              "  </tbody>\n",
              "</table>\n",
              "<p>5 rows × 90 columns</p>\n",
              "</div>\n",
              "    <div class=\"colab-df-buttons\">\n",
              "\n",
              "  <div class=\"colab-df-container\">\n",
              "    <button class=\"colab-df-convert\" onclick=\"convertToInteractive('df-33df0b24-8e2f-4bf4-bc01-3e55a2da2727')\"\n",
              "            title=\"Convert this dataframe to an interactive table.\"\n",
              "            style=\"display:none;\">\n",
              "\n",
              "  <svg xmlns=\"http://www.w3.org/2000/svg\" height=\"24px\" viewBox=\"0 -960 960 960\">\n",
              "    <path d=\"M120-120v-720h720v720H120Zm60-500h600v-160H180v160Zm220 220h160v-160H400v160Zm0 220h160v-160H400v160ZM180-400h160v-160H180v160Zm440 0h160v-160H620v160ZM180-180h160v-160H180v160Zm440 0h160v-160H620v160Z\"/>\n",
              "  </svg>\n",
              "    </button>\n",
              "\n",
              "  <style>\n",
              "    .colab-df-container {\n",
              "      display:flex;\n",
              "      gap: 12px;\n",
              "    }\n",
              "\n",
              "    .colab-df-convert {\n",
              "      background-color: #E8F0FE;\n",
              "      border: none;\n",
              "      border-radius: 50%;\n",
              "      cursor: pointer;\n",
              "      display: none;\n",
              "      fill: #1967D2;\n",
              "      height: 32px;\n",
              "      padding: 0 0 0 0;\n",
              "      width: 32px;\n",
              "    }\n",
              "\n",
              "    .colab-df-convert:hover {\n",
              "      background-color: #E2EBFA;\n",
              "      box-shadow: 0px 1px 2px rgba(60, 64, 67, 0.3), 0px 1px 3px 1px rgba(60, 64, 67, 0.15);\n",
              "      fill: #174EA6;\n",
              "    }\n",
              "\n",
              "    .colab-df-buttons div {\n",
              "      margin-bottom: 4px;\n",
              "    }\n",
              "\n",
              "    [theme=dark] .colab-df-convert {\n",
              "      background-color: #3B4455;\n",
              "      fill: #D2E3FC;\n",
              "    }\n",
              "\n",
              "    [theme=dark] .colab-df-convert:hover {\n",
              "      background-color: #434B5C;\n",
              "      box-shadow: 0px 1px 3px 1px rgba(0, 0, 0, 0.15);\n",
              "      filter: drop-shadow(0px 1px 2px rgba(0, 0, 0, 0.3));\n",
              "      fill: #FFFFFF;\n",
              "    }\n",
              "  </style>\n",
              "\n",
              "    <script>\n",
              "      const buttonEl =\n",
              "        document.querySelector('#df-33df0b24-8e2f-4bf4-bc01-3e55a2da2727 button.colab-df-convert');\n",
              "      buttonEl.style.display =\n",
              "        google.colab.kernel.accessAllowed ? 'block' : 'none';\n",
              "\n",
              "      async function convertToInteractive(key) {\n",
              "        const element = document.querySelector('#df-33df0b24-8e2f-4bf4-bc01-3e55a2da2727');\n",
              "        const dataTable =\n",
              "          await google.colab.kernel.invokeFunction('convertToInteractive',\n",
              "                                                    [key], {});\n",
              "        if (!dataTable) return;\n",
              "\n",
              "        const docLinkHtml = 'Like what you see? Visit the ' +\n",
              "          '<a target=\"_blank\" href=https://colab.research.google.com/notebooks/data_table.ipynb>data table notebook</a>'\n",
              "          + ' to learn more about interactive tables.';\n",
              "        element.innerHTML = '';\n",
              "        dataTable['output_type'] = 'display_data';\n",
              "        await google.colab.output.renderOutput(dataTable, element);\n",
              "        const docLink = document.createElement('div');\n",
              "        docLink.innerHTML = docLinkHtml;\n",
              "        element.appendChild(docLink);\n",
              "      }\n",
              "    </script>\n",
              "  </div>\n",
              "\n",
              "\n",
              "<div id=\"df-93d7d762-b369-4a37-8d0d-33df320fe5fe\">\n",
              "  <button class=\"colab-df-quickchart\" onclick=\"quickchart('df-93d7d762-b369-4a37-8d0d-33df320fe5fe')\"\n",
              "            title=\"Suggest charts\"\n",
              "            style=\"display:none;\">\n",
              "\n",
              "<svg xmlns=\"http://www.w3.org/2000/svg\" height=\"24px\"viewBox=\"0 0 24 24\"\n",
              "     width=\"24px\">\n",
              "    <g>\n",
              "        <path d=\"M19 3H5c-1.1 0-2 .9-2 2v14c0 1.1.9 2 2 2h14c1.1 0 2-.9 2-2V5c0-1.1-.9-2-2-2zM9 17H7v-7h2v7zm4 0h-2V7h2v10zm4 0h-2v-4h2v4z\"/>\n",
              "    </g>\n",
              "</svg>\n",
              "  </button>\n",
              "\n",
              "<style>\n",
              "  .colab-df-quickchart {\n",
              "      --bg-color: #E8F0FE;\n",
              "      --fill-color: #1967D2;\n",
              "      --hover-bg-color: #E2EBFA;\n",
              "      --hover-fill-color: #174EA6;\n",
              "      --disabled-fill-color: #AAA;\n",
              "      --disabled-bg-color: #DDD;\n",
              "  }\n",
              "\n",
              "  [theme=dark] .colab-df-quickchart {\n",
              "      --bg-color: #3B4455;\n",
              "      --fill-color: #D2E3FC;\n",
              "      --hover-bg-color: #434B5C;\n",
              "      --hover-fill-color: #FFFFFF;\n",
              "      --disabled-bg-color: #3B4455;\n",
              "      --disabled-fill-color: #666;\n",
              "  }\n",
              "\n",
              "  .colab-df-quickchart {\n",
              "    background-color: var(--bg-color);\n",
              "    border: none;\n",
              "    border-radius: 50%;\n",
              "    cursor: pointer;\n",
              "    display: none;\n",
              "    fill: var(--fill-color);\n",
              "    height: 32px;\n",
              "    padding: 0;\n",
              "    width: 32px;\n",
              "  }\n",
              "\n",
              "  .colab-df-quickchart:hover {\n",
              "    background-color: var(--hover-bg-color);\n",
              "    box-shadow: 0 1px 2px rgba(60, 64, 67, 0.3), 0 1px 3px 1px rgba(60, 64, 67, 0.15);\n",
              "    fill: var(--button-hover-fill-color);\n",
              "  }\n",
              "\n",
              "  .colab-df-quickchart-complete:disabled,\n",
              "  .colab-df-quickchart-complete:disabled:hover {\n",
              "    background-color: var(--disabled-bg-color);\n",
              "    fill: var(--disabled-fill-color);\n",
              "    box-shadow: none;\n",
              "  }\n",
              "\n",
              "  .colab-df-spinner {\n",
              "    border: 2px solid var(--fill-color);\n",
              "    border-color: transparent;\n",
              "    border-bottom-color: var(--fill-color);\n",
              "    animation:\n",
              "      spin 1s steps(1) infinite;\n",
              "  }\n",
              "\n",
              "  @keyframes spin {\n",
              "    0% {\n",
              "      border-color: transparent;\n",
              "      border-bottom-color: var(--fill-color);\n",
              "      border-left-color: var(--fill-color);\n",
              "    }\n",
              "    20% {\n",
              "      border-color: transparent;\n",
              "      border-left-color: var(--fill-color);\n",
              "      border-top-color: var(--fill-color);\n",
              "    }\n",
              "    30% {\n",
              "      border-color: transparent;\n",
              "      border-left-color: var(--fill-color);\n",
              "      border-top-color: var(--fill-color);\n",
              "      border-right-color: var(--fill-color);\n",
              "    }\n",
              "    40% {\n",
              "      border-color: transparent;\n",
              "      border-right-color: var(--fill-color);\n",
              "      border-top-color: var(--fill-color);\n",
              "    }\n",
              "    60% {\n",
              "      border-color: transparent;\n",
              "      border-right-color: var(--fill-color);\n",
              "    }\n",
              "    80% {\n",
              "      border-color: transparent;\n",
              "      border-right-color: var(--fill-color);\n",
              "      border-bottom-color: var(--fill-color);\n",
              "    }\n",
              "    90% {\n",
              "      border-color: transparent;\n",
              "      border-bottom-color: var(--fill-color);\n",
              "    }\n",
              "  }\n",
              "</style>\n",
              "\n",
              "  <script>\n",
              "    async function quickchart(key) {\n",
              "      const quickchartButtonEl =\n",
              "        document.querySelector('#' + key + ' button');\n",
              "      quickchartButtonEl.disabled = true;  // To prevent multiple clicks.\n",
              "      quickchartButtonEl.classList.add('colab-df-spinner');\n",
              "      try {\n",
              "        const charts = await google.colab.kernel.invokeFunction(\n",
              "            'suggestCharts', [key], {});\n",
              "      } catch (error) {\n",
              "        console.error('Error during call to suggestCharts:', error);\n",
              "      }\n",
              "      quickchartButtonEl.classList.remove('colab-df-spinner');\n",
              "      quickchartButtonEl.classList.add('colab-df-quickchart-complete');\n",
              "    }\n",
              "    (() => {\n",
              "      let quickchartButtonEl =\n",
              "        document.querySelector('#df-93d7d762-b369-4a37-8d0d-33df320fe5fe button');\n",
              "      quickchartButtonEl.style.display =\n",
              "        google.colab.kernel.accessAllowed ? 'block' : 'none';\n",
              "    })();\n",
              "  </script>\n",
              "</div>\n",
              "\n",
              "    </div>\n",
              "  </div>\n"
            ],
            "application/vnd.google.colaboratory.intrinsic+json": {
              "type": "dataframe",
              "variable_name": "df"
            }
          },
          "metadata": {},
          "execution_count": 10
        }
      ]
    },
    {
      "cell_type": "code",
      "source": [
        "df.columns"
      ],
      "metadata": {
        "colab": {
          "base_uri": "https://localhost:8080/"
        },
        "id": "l8aHTn7rxzcu",
        "outputId": "9f160f6b-5652-4750-b2a5-6f142a88626e"
      },
      "execution_count": 11,
      "outputs": [
        {
          "output_type": "execute_result",
          "data": {
            "text/plain": [
              "Index(['ID', 'Name', 'FullName', 'Age', 'Height', 'Weight', 'PhotoUrl',\n",
              "       'Nationality', 'Overall', 'Potential', 'Growth', 'TotalStats',\n",
              "       'BaseStats', 'Positions', 'BestPosition', 'Club', 'ValueEUR', 'WageEUR',\n",
              "       'ReleaseClause', 'ClubPosition', 'ContractUntil', 'ClubNumber',\n",
              "       'ClubJoined', 'OnLoad', 'NationalTeam', 'NationalPosition',\n",
              "       'NationalNumber', 'PreferredFoot', 'IntReputation', 'WeakFoot',\n",
              "       'SkillMoves', 'AttackingWorkRate', 'DefensiveWorkRate', 'PaceTotal',\n",
              "       'ShootingTotal', 'PassingTotal', 'DribblingTotal', 'DefendingTotal',\n",
              "       'PhysicalityTotal', 'Crossing', 'Finishing', 'HeadingAccuracy',\n",
              "       'ShortPassing', 'Volleys', 'Dribbling', 'Curve', 'FKAccuracy',\n",
              "       'LongPassing', 'BallControl', 'Acceleration', 'SprintSpeed', 'Agility',\n",
              "       'Reactions', 'Balance', 'ShotPower', 'Jumping', 'Stamina', 'Strength',\n",
              "       'LongShots', 'Aggression', 'Interceptions', 'Positioning', 'Vision',\n",
              "       'Penalties', 'Composure', 'Marking', 'StandingTackle', 'SlidingTackle',\n",
              "       'GKDiving', 'GKHandling', 'GKKicking', 'GKPositioning', 'GKReflexes',\n",
              "       'STRating', 'LWRating', 'LFRating', 'CFRating', 'RFRating', 'RWRating',\n",
              "       'CAMRating', 'LMRating', 'CMRating', 'RMRating', 'LWBRating',\n",
              "       'CDMRating', 'RWBRating', 'LBRating', 'CBRating', 'RBRating',\n",
              "       'GKRating'],\n",
              "      dtype='object')"
            ]
          },
          "metadata": {},
          "execution_count": 11
        }
      ]
    },
    {
      "cell_type": "code",
      "source": [
        "needed_columns = ['ID', 'Name', 'Age', 'Height', 'Weight',\n",
        "       'Overall', 'Potential', 'Growth', 'TotalStats',\n",
        "       'BaseStats', 'BestPosition', 'Club', 'ValueEUR', 'WageEUR',\n",
        "       'ReleaseClause', 'ContractUntil', 'ClubJoined', 'OnLoad',\n",
        "       'PreferredFoot', 'IntReputation', 'WeakFoot','Nationality',\n",
        "       'SkillMoves', 'AttackingWorkRate', 'DefensiveWorkRate', 'PaceTotal',\n",
        "       'ShootingTotal', 'PassingTotal', 'DribblingTotal', 'DefendingTotal',\n",
        "       'PhysicalityTotal', 'Crossing', 'Finishing', 'HeadingAccuracy',\n",
        "       'ShortPassing', 'Volleys', 'Dribbling', 'Curve', 'FKAccuracy',\n",
        "       'LongPassing', 'BallControl', 'Acceleration', 'SprintSpeed', 'Agility',\n",
        "       'Reactions', 'Balance', 'ShotPower', 'Jumping', 'Stamina', 'Strength',\n",
        "       'LongShots', 'Aggression', 'Interceptions', 'Positioning', 'Vision',\n",
        "       'Penalties', 'Composure', 'Marking', 'StandingTackle', 'SlidingTackle',\n",
        "       'GKDiving', 'GKHandling', 'GKKicking', 'GKPositioning', 'GKReflexes']\n",
        "df= df[needed_columns]"
      ],
      "metadata": {
        "id": "tkZONG8Mx_DK"
      },
      "execution_count": 12,
      "outputs": []
    },
    {
      "cell_type": "code",
      "source": [
        "df.info()"
      ],
      "metadata": {
        "colab": {
          "base_uri": "https://localhost:8080/"
        },
        "id": "XJSot0VdyY_t",
        "outputId": "71a7fe83-cf66-4ca9-9feb-01f09821625c"
      },
      "execution_count": 13,
      "outputs": [
        {
          "output_type": "stream",
          "name": "stdout",
          "text": [
            "<class 'pandas.core.frame.DataFrame'>\n",
            "RangeIndex: 18539 entries, 0 to 18538\n",
            "Data columns (total 65 columns):\n",
            " #   Column             Non-Null Count  Dtype  \n",
            "---  ------             --------------  -----  \n",
            " 0   ID                 18539 non-null  int64  \n",
            " 1   Name               18539 non-null  object \n",
            " 2   Age                18539 non-null  int64  \n",
            " 3   Height             18539 non-null  int64  \n",
            " 4   Weight             18539 non-null  int64  \n",
            " 5   Overall            18539 non-null  int64  \n",
            " 6   Potential          18539 non-null  int64  \n",
            " 7   Growth             18539 non-null  int64  \n",
            " 8   TotalStats         18539 non-null  int64  \n",
            " 9   BaseStats          18539 non-null  int64  \n",
            " 10  BestPosition       18539 non-null  object \n",
            " 11  Club               18539 non-null  object \n",
            " 12  ValueEUR           18539 non-null  int64  \n",
            " 13  WageEUR            18539 non-null  int64  \n",
            " 14  ReleaseClause      18539 non-null  int64  \n",
            " 15  ContractUntil      18447 non-null  float64\n",
            " 16  ClubJoined         18539 non-null  int64  \n",
            " 17  OnLoad             18539 non-null  bool   \n",
            " 18  PreferredFoot      18539 non-null  object \n",
            " 19  IntReputation      18539 non-null  int64  \n",
            " 20  WeakFoot           18539 non-null  int64  \n",
            " 21  Nationality        18539 non-null  object \n",
            " 22  SkillMoves         18539 non-null  int64  \n",
            " 23  AttackingWorkRate  18539 non-null  object \n",
            " 24  DefensiveWorkRate  18539 non-null  object \n",
            " 25  PaceTotal          18539 non-null  int64  \n",
            " 26  ShootingTotal      18539 non-null  int64  \n",
            " 27  PassingTotal       18539 non-null  int64  \n",
            " 28  DribblingTotal     18539 non-null  int64  \n",
            " 29  DefendingTotal     18539 non-null  int64  \n",
            " 30  PhysicalityTotal   18539 non-null  int64  \n",
            " 31  Crossing           18539 non-null  int64  \n",
            " 32  Finishing          18539 non-null  int64  \n",
            " 33  HeadingAccuracy    18539 non-null  int64  \n",
            " 34  ShortPassing       18539 non-null  int64  \n",
            " 35  Volleys            18539 non-null  int64  \n",
            " 36  Dribbling          18539 non-null  int64  \n",
            " 37  Curve              18539 non-null  int64  \n",
            " 38  FKAccuracy         18539 non-null  int64  \n",
            " 39  LongPassing        18539 non-null  int64  \n",
            " 40  BallControl        18539 non-null  int64  \n",
            " 41  Acceleration       18539 non-null  int64  \n",
            " 42  SprintSpeed        18539 non-null  int64  \n",
            " 43  Agility            18539 non-null  int64  \n",
            " 44  Reactions          18539 non-null  int64  \n",
            " 45  Balance            18539 non-null  int64  \n",
            " 46  ShotPower          18539 non-null  int64  \n",
            " 47  Jumping            18539 non-null  int64  \n",
            " 48  Stamina            18539 non-null  int64  \n",
            " 49  Strength           18539 non-null  int64  \n",
            " 50  LongShots          18539 non-null  int64  \n",
            " 51  Aggression         18539 non-null  int64  \n",
            " 52  Interceptions      18539 non-null  int64  \n",
            " 53  Positioning        18539 non-null  int64  \n",
            " 54  Vision             18539 non-null  int64  \n",
            " 55  Penalties          18539 non-null  int64  \n",
            " 56  Composure          18539 non-null  int64  \n",
            " 57  Marking            18539 non-null  int64  \n",
            " 58  StandingTackle     18539 non-null  int64  \n",
            " 59  SlidingTackle      18539 non-null  int64  \n",
            " 60  GKDiving           18539 non-null  int64  \n",
            " 61  GKHandling         18539 non-null  int64  \n",
            " 62  GKKicking          18539 non-null  int64  \n",
            " 63  GKPositioning      18539 non-null  int64  \n",
            " 64  GKReflexes         18539 non-null  int64  \n",
            "dtypes: bool(1), float64(1), int64(56), object(7)\n",
            "memory usage: 9.1+ MB\n"
          ]
        }
      ]
    },
    {
      "cell_type": "code",
      "source": [
        "df.head()"
      ],
      "metadata": {
        "colab": {
          "base_uri": "https://localhost:8080/",
          "height": 273
        },
        "id": "tD8QAmceybFm",
        "outputId": "55c61301-9e5c-4a80-9838-d39d037ec343"
      },
      "execution_count": 14,
      "outputs": [
        {
          "output_type": "execute_result",
          "data": {
            "text/plain": [
              "       ID            Name  Age  Height  Weight  Overall  Potential  Growth  \\\n",
              "0  158023        L. Messi   35     169      67       91         91       0   \n",
              "1  165153      K. Benzema   34     185      81       91         91       0   \n",
              "2  188545  R. Lewandowski   33     185      81       91         91       0   \n",
              "3  192985    K. De Bruyne   31     181      70       91         91       0   \n",
              "4  231747       K. Mbappé   23     182      73       91         95       4   \n",
              "\n",
              "   TotalStats  BaseStats  ... Penalties Composure  Marking  StandingTackle  \\\n",
              "0        2190        452  ...        75        96       20              35   \n",
              "1        2147        455  ...        84        90       43              24   \n",
              "2        2205        458  ...        90        88       35              42   \n",
              "3        2303        483  ...        83        89       68              65   \n",
              "4        2177        470  ...        80        88       26              34   \n",
              "\n",
              "   SlidingTackle  GKDiving  GKHandling  GKKicking GKPositioning  GKReflexes  \n",
              "0             24         6          11         15            14           8  \n",
              "1             18        13          11          5             5           7  \n",
              "2             19        15           6         12             8          10  \n",
              "3             53        15          13          5            10          13  \n",
              "4             32        13           5          7            11           6  \n",
              "\n",
              "[5 rows x 65 columns]"
            ],
            "text/html": [
              "\n",
              "  <div id=\"df-c874144e-0f84-4b16-97f5-7e48c830f01b\" class=\"colab-df-container\">\n",
              "    <div>\n",
              "<style scoped>\n",
              "    .dataframe tbody tr th:only-of-type {\n",
              "        vertical-align: middle;\n",
              "    }\n",
              "\n",
              "    .dataframe tbody tr th {\n",
              "        vertical-align: top;\n",
              "    }\n",
              "\n",
              "    .dataframe thead th {\n",
              "        text-align: right;\n",
              "    }\n",
              "</style>\n",
              "<table border=\"1\" class=\"dataframe\">\n",
              "  <thead>\n",
              "    <tr style=\"text-align: right;\">\n",
              "      <th></th>\n",
              "      <th>ID</th>\n",
              "      <th>Name</th>\n",
              "      <th>Age</th>\n",
              "      <th>Height</th>\n",
              "      <th>Weight</th>\n",
              "      <th>Overall</th>\n",
              "      <th>Potential</th>\n",
              "      <th>Growth</th>\n",
              "      <th>TotalStats</th>\n",
              "      <th>BaseStats</th>\n",
              "      <th>...</th>\n",
              "      <th>Penalties</th>\n",
              "      <th>Composure</th>\n",
              "      <th>Marking</th>\n",
              "      <th>StandingTackle</th>\n",
              "      <th>SlidingTackle</th>\n",
              "      <th>GKDiving</th>\n",
              "      <th>GKHandling</th>\n",
              "      <th>GKKicking</th>\n",
              "      <th>GKPositioning</th>\n",
              "      <th>GKReflexes</th>\n",
              "    </tr>\n",
              "  </thead>\n",
              "  <tbody>\n",
              "    <tr>\n",
              "      <th>0</th>\n",
              "      <td>158023</td>\n",
              "      <td>L. Messi</td>\n",
              "      <td>35</td>\n",
              "      <td>169</td>\n",
              "      <td>67</td>\n",
              "      <td>91</td>\n",
              "      <td>91</td>\n",
              "      <td>0</td>\n",
              "      <td>2190</td>\n",
              "      <td>452</td>\n",
              "      <td>...</td>\n",
              "      <td>75</td>\n",
              "      <td>96</td>\n",
              "      <td>20</td>\n",
              "      <td>35</td>\n",
              "      <td>24</td>\n",
              "      <td>6</td>\n",
              "      <td>11</td>\n",
              "      <td>15</td>\n",
              "      <td>14</td>\n",
              "      <td>8</td>\n",
              "    </tr>\n",
              "    <tr>\n",
              "      <th>1</th>\n",
              "      <td>165153</td>\n",
              "      <td>K. Benzema</td>\n",
              "      <td>34</td>\n",
              "      <td>185</td>\n",
              "      <td>81</td>\n",
              "      <td>91</td>\n",
              "      <td>91</td>\n",
              "      <td>0</td>\n",
              "      <td>2147</td>\n",
              "      <td>455</td>\n",
              "      <td>...</td>\n",
              "      <td>84</td>\n",
              "      <td>90</td>\n",
              "      <td>43</td>\n",
              "      <td>24</td>\n",
              "      <td>18</td>\n",
              "      <td>13</td>\n",
              "      <td>11</td>\n",
              "      <td>5</td>\n",
              "      <td>5</td>\n",
              "      <td>7</td>\n",
              "    </tr>\n",
              "    <tr>\n",
              "      <th>2</th>\n",
              "      <td>188545</td>\n",
              "      <td>R. Lewandowski</td>\n",
              "      <td>33</td>\n",
              "      <td>185</td>\n",
              "      <td>81</td>\n",
              "      <td>91</td>\n",
              "      <td>91</td>\n",
              "      <td>0</td>\n",
              "      <td>2205</td>\n",
              "      <td>458</td>\n",
              "      <td>...</td>\n",
              "      <td>90</td>\n",
              "      <td>88</td>\n",
              "      <td>35</td>\n",
              "      <td>42</td>\n",
              "      <td>19</td>\n",
              "      <td>15</td>\n",
              "      <td>6</td>\n",
              "      <td>12</td>\n",
              "      <td>8</td>\n",
              "      <td>10</td>\n",
              "    </tr>\n",
              "    <tr>\n",
              "      <th>3</th>\n",
              "      <td>192985</td>\n",
              "      <td>K. De Bruyne</td>\n",
              "      <td>31</td>\n",
              "      <td>181</td>\n",
              "      <td>70</td>\n",
              "      <td>91</td>\n",
              "      <td>91</td>\n",
              "      <td>0</td>\n",
              "      <td>2303</td>\n",
              "      <td>483</td>\n",
              "      <td>...</td>\n",
              "      <td>83</td>\n",
              "      <td>89</td>\n",
              "      <td>68</td>\n",
              "      <td>65</td>\n",
              "      <td>53</td>\n",
              "      <td>15</td>\n",
              "      <td>13</td>\n",
              "      <td>5</td>\n",
              "      <td>10</td>\n",
              "      <td>13</td>\n",
              "    </tr>\n",
              "    <tr>\n",
              "      <th>4</th>\n",
              "      <td>231747</td>\n",
              "      <td>K. Mbappé</td>\n",
              "      <td>23</td>\n",
              "      <td>182</td>\n",
              "      <td>73</td>\n",
              "      <td>91</td>\n",
              "      <td>95</td>\n",
              "      <td>4</td>\n",
              "      <td>2177</td>\n",
              "      <td>470</td>\n",
              "      <td>...</td>\n",
              "      <td>80</td>\n",
              "      <td>88</td>\n",
              "      <td>26</td>\n",
              "      <td>34</td>\n",
              "      <td>32</td>\n",
              "      <td>13</td>\n",
              "      <td>5</td>\n",
              "      <td>7</td>\n",
              "      <td>11</td>\n",
              "      <td>6</td>\n",
              "    </tr>\n",
              "  </tbody>\n",
              "</table>\n",
              "<p>5 rows × 65 columns</p>\n",
              "</div>\n",
              "    <div class=\"colab-df-buttons\">\n",
              "\n",
              "  <div class=\"colab-df-container\">\n",
              "    <button class=\"colab-df-convert\" onclick=\"convertToInteractive('df-c874144e-0f84-4b16-97f5-7e48c830f01b')\"\n",
              "            title=\"Convert this dataframe to an interactive table.\"\n",
              "            style=\"display:none;\">\n",
              "\n",
              "  <svg xmlns=\"http://www.w3.org/2000/svg\" height=\"24px\" viewBox=\"0 -960 960 960\">\n",
              "    <path d=\"M120-120v-720h720v720H120Zm60-500h600v-160H180v160Zm220 220h160v-160H400v160Zm0 220h160v-160H400v160ZM180-400h160v-160H180v160Zm440 0h160v-160H620v160ZM180-180h160v-160H180v160Zm440 0h160v-160H620v160Z\"/>\n",
              "  </svg>\n",
              "    </button>\n",
              "\n",
              "  <style>\n",
              "    .colab-df-container {\n",
              "      display:flex;\n",
              "      gap: 12px;\n",
              "    }\n",
              "\n",
              "    .colab-df-convert {\n",
              "      background-color: #E8F0FE;\n",
              "      border: none;\n",
              "      border-radius: 50%;\n",
              "      cursor: pointer;\n",
              "      display: none;\n",
              "      fill: #1967D2;\n",
              "      height: 32px;\n",
              "      padding: 0 0 0 0;\n",
              "      width: 32px;\n",
              "    }\n",
              "\n",
              "    .colab-df-convert:hover {\n",
              "      background-color: #E2EBFA;\n",
              "      box-shadow: 0px 1px 2px rgba(60, 64, 67, 0.3), 0px 1px 3px 1px rgba(60, 64, 67, 0.15);\n",
              "      fill: #174EA6;\n",
              "    }\n",
              "\n",
              "    .colab-df-buttons div {\n",
              "      margin-bottom: 4px;\n",
              "    }\n",
              "\n",
              "    [theme=dark] .colab-df-convert {\n",
              "      background-color: #3B4455;\n",
              "      fill: #D2E3FC;\n",
              "    }\n",
              "\n",
              "    [theme=dark] .colab-df-convert:hover {\n",
              "      background-color: #434B5C;\n",
              "      box-shadow: 0px 1px 3px 1px rgba(0, 0, 0, 0.15);\n",
              "      filter: drop-shadow(0px 1px 2px rgba(0, 0, 0, 0.3));\n",
              "      fill: #FFFFFF;\n",
              "    }\n",
              "  </style>\n",
              "\n",
              "    <script>\n",
              "      const buttonEl =\n",
              "        document.querySelector('#df-c874144e-0f84-4b16-97f5-7e48c830f01b button.colab-df-convert');\n",
              "      buttonEl.style.display =\n",
              "        google.colab.kernel.accessAllowed ? 'block' : 'none';\n",
              "\n",
              "      async function convertToInteractive(key) {\n",
              "        const element = document.querySelector('#df-c874144e-0f84-4b16-97f5-7e48c830f01b');\n",
              "        const dataTable =\n",
              "          await google.colab.kernel.invokeFunction('convertToInteractive',\n",
              "                                                    [key], {});\n",
              "        if (!dataTable) return;\n",
              "\n",
              "        const docLinkHtml = 'Like what you see? Visit the ' +\n",
              "          '<a target=\"_blank\" href=https://colab.research.google.com/notebooks/data_table.ipynb>data table notebook</a>'\n",
              "          + ' to learn more about interactive tables.';\n",
              "        element.innerHTML = '';\n",
              "        dataTable['output_type'] = 'display_data';\n",
              "        await google.colab.output.renderOutput(dataTable, element);\n",
              "        const docLink = document.createElement('div');\n",
              "        docLink.innerHTML = docLinkHtml;\n",
              "        element.appendChild(docLink);\n",
              "      }\n",
              "    </script>\n",
              "  </div>\n",
              "\n",
              "\n",
              "<div id=\"df-33b088d4-3355-4233-9fd4-be0347745c73\">\n",
              "  <button class=\"colab-df-quickchart\" onclick=\"quickchart('df-33b088d4-3355-4233-9fd4-be0347745c73')\"\n",
              "            title=\"Suggest charts\"\n",
              "            style=\"display:none;\">\n",
              "\n",
              "<svg xmlns=\"http://www.w3.org/2000/svg\" height=\"24px\"viewBox=\"0 0 24 24\"\n",
              "     width=\"24px\">\n",
              "    <g>\n",
              "        <path d=\"M19 3H5c-1.1 0-2 .9-2 2v14c0 1.1.9 2 2 2h14c1.1 0 2-.9 2-2V5c0-1.1-.9-2-2-2zM9 17H7v-7h2v7zm4 0h-2V7h2v10zm4 0h-2v-4h2v4z\"/>\n",
              "    </g>\n",
              "</svg>\n",
              "  </button>\n",
              "\n",
              "<style>\n",
              "  .colab-df-quickchart {\n",
              "      --bg-color: #E8F0FE;\n",
              "      --fill-color: #1967D2;\n",
              "      --hover-bg-color: #E2EBFA;\n",
              "      --hover-fill-color: #174EA6;\n",
              "      --disabled-fill-color: #AAA;\n",
              "      --disabled-bg-color: #DDD;\n",
              "  }\n",
              "\n",
              "  [theme=dark] .colab-df-quickchart {\n",
              "      --bg-color: #3B4455;\n",
              "      --fill-color: #D2E3FC;\n",
              "      --hover-bg-color: #434B5C;\n",
              "      --hover-fill-color: #FFFFFF;\n",
              "      --disabled-bg-color: #3B4455;\n",
              "      --disabled-fill-color: #666;\n",
              "  }\n",
              "\n",
              "  .colab-df-quickchart {\n",
              "    background-color: var(--bg-color);\n",
              "    border: none;\n",
              "    border-radius: 50%;\n",
              "    cursor: pointer;\n",
              "    display: none;\n",
              "    fill: var(--fill-color);\n",
              "    height: 32px;\n",
              "    padding: 0;\n",
              "    width: 32px;\n",
              "  }\n",
              "\n",
              "  .colab-df-quickchart:hover {\n",
              "    background-color: var(--hover-bg-color);\n",
              "    box-shadow: 0 1px 2px rgba(60, 64, 67, 0.3), 0 1px 3px 1px rgba(60, 64, 67, 0.15);\n",
              "    fill: var(--button-hover-fill-color);\n",
              "  }\n",
              "\n",
              "  .colab-df-quickchart-complete:disabled,\n",
              "  .colab-df-quickchart-complete:disabled:hover {\n",
              "    background-color: var(--disabled-bg-color);\n",
              "    fill: var(--disabled-fill-color);\n",
              "    box-shadow: none;\n",
              "  }\n",
              "\n",
              "  .colab-df-spinner {\n",
              "    border: 2px solid var(--fill-color);\n",
              "    border-color: transparent;\n",
              "    border-bottom-color: var(--fill-color);\n",
              "    animation:\n",
              "      spin 1s steps(1) infinite;\n",
              "  }\n",
              "\n",
              "  @keyframes spin {\n",
              "    0% {\n",
              "      border-color: transparent;\n",
              "      border-bottom-color: var(--fill-color);\n",
              "      border-left-color: var(--fill-color);\n",
              "    }\n",
              "    20% {\n",
              "      border-color: transparent;\n",
              "      border-left-color: var(--fill-color);\n",
              "      border-top-color: var(--fill-color);\n",
              "    }\n",
              "    30% {\n",
              "      border-color: transparent;\n",
              "      border-left-color: var(--fill-color);\n",
              "      border-top-color: var(--fill-color);\n",
              "      border-right-color: var(--fill-color);\n",
              "    }\n",
              "    40% {\n",
              "      border-color: transparent;\n",
              "      border-right-color: var(--fill-color);\n",
              "      border-top-color: var(--fill-color);\n",
              "    }\n",
              "    60% {\n",
              "      border-color: transparent;\n",
              "      border-right-color: var(--fill-color);\n",
              "    }\n",
              "    80% {\n",
              "      border-color: transparent;\n",
              "      border-right-color: var(--fill-color);\n",
              "      border-bottom-color: var(--fill-color);\n",
              "    }\n",
              "    90% {\n",
              "      border-color: transparent;\n",
              "      border-bottom-color: var(--fill-color);\n",
              "    }\n",
              "  }\n",
              "</style>\n",
              "\n",
              "  <script>\n",
              "    async function quickchart(key) {\n",
              "      const quickchartButtonEl =\n",
              "        document.querySelector('#' + key + ' button');\n",
              "      quickchartButtonEl.disabled = true;  // To prevent multiple clicks.\n",
              "      quickchartButtonEl.classList.add('colab-df-spinner');\n",
              "      try {\n",
              "        const charts = await google.colab.kernel.invokeFunction(\n",
              "            'suggestCharts', [key], {});\n",
              "      } catch (error) {\n",
              "        console.error('Error during call to suggestCharts:', error);\n",
              "      }\n",
              "      quickchartButtonEl.classList.remove('colab-df-spinner');\n",
              "      quickchartButtonEl.classList.add('colab-df-quickchart-complete');\n",
              "    }\n",
              "    (() => {\n",
              "      let quickchartButtonEl =\n",
              "        document.querySelector('#df-33b088d4-3355-4233-9fd4-be0347745c73 button');\n",
              "      quickchartButtonEl.style.display =\n",
              "        google.colab.kernel.accessAllowed ? 'block' : 'none';\n",
              "    })();\n",
              "  </script>\n",
              "</div>\n",
              "\n",
              "    </div>\n",
              "  </div>\n"
            ],
            "application/vnd.google.colaboratory.intrinsic+json": {
              "type": "dataframe",
              "variable_name": "df"
            }
          },
          "metadata": {},
          "execution_count": 14
        }
      ]
    },
    {
      "cell_type": "markdown",
      "source": [
        "##Checking null values"
      ],
      "metadata": {
        "id": "gOWSnc8EyrIA"
      }
    },
    {
      "cell_type": "code",
      "source": [
        "for i in df.columns:\n",
        "  if df[i].isnull().sum()>0:\n",
        "    print(i,df[i].isnull().sum())"
      ],
      "metadata": {
        "colab": {
          "base_uri": "https://localhost:8080/"
        },
        "id": "CHZGVpqwyeZX",
        "outputId": "47740eb1-4d56-4212-85ef-78ca3ac3368d"
      },
      "execution_count": 17,
      "outputs": [
        {
          "output_type": "stream",
          "name": "stdout",
          "text": [
            "ContractUntil 92\n"
          ]
        }
      ]
    },
    {
      "cell_type": "code",
      "source": [
        "(df['ContractUntil'].isnull().sum()/df.shape[0])*100"
      ],
      "metadata": {
        "colab": {
          "base_uri": "https://localhost:8080/"
        },
        "id": "a-h9skn_y92L",
        "outputId": "81560615-e300-4acc-fcf1-281f20de17a5"
      },
      "execution_count": 19,
      "outputs": [
        {
          "output_type": "execute_result",
          "data": {
            "text/plain": [
              "0.49625114623226707"
            ]
          },
          "metadata": {},
          "execution_count": 19
        }
      ]
    },
    {
      "cell_type": "code",
      "source": [
        "df.drop(df[df['ContractUntil'].isnull()].index, axis = 0, inplace = True)"
      ],
      "metadata": {
        "id": "0JzSibW_zgQQ"
      },
      "execution_count": 23,
      "outputs": []
    },
    {
      "cell_type": "markdown",
      "source": [
        "##Handling categorical columns"
      ],
      "metadata": {
        "id": "DsoKvzrr0gbW"
      }
    },
    {
      "cell_type": "code",
      "source": [
        "for i in df.columns:\n",
        "  if df[i].dtype == 'object':\n",
        "    print(i)"
      ],
      "metadata": {
        "colab": {
          "base_uri": "https://localhost:8080/"
        },
        "id": "dbjwJt-hz9-7",
        "outputId": "4c117a5f-df7b-4be6-d9e2-b257b089b3c5"
      },
      "execution_count": 24,
      "outputs": [
        {
          "output_type": "stream",
          "name": "stdout",
          "text": [
            "Name\n",
            "BestPosition\n",
            "Club\n",
            "PreferredFoot\n",
            "Nationality\n",
            "AttackingWorkRate\n",
            "DefensiveWorkRate\n"
          ]
        }
      ]
    },
    {
      "cell_type": "code",
      "source": [
        "from sklearn.preprocessing import LabelEncoder\n",
        "le = LabelEncoder()\n",
        "df['Club']=le.fit_transform(df['Club'])\n",
        "df['AttackingWorkRate'] = le.fit_transform(df['AttackingWorkRate'])\n",
        "df['DefensiveWorkRate'] = le.fit_transform(df['DefensiveWorkRate'])\n",
        "df['PreferredFoot'] = le.fit_transform(df['PreferredFoot'])\n"
      ],
      "metadata": {
        "id": "vsWhuW8P0lzl"
      },
      "execution_count": 27,
      "outputs": []
    },
    {
      "cell_type": "code",
      "source": [
        "df['BestPosition'].unique()"
      ],
      "metadata": {
        "colab": {
          "base_uri": "https://localhost:8080/"
        },
        "id": "JhHwU-Eh1hcw",
        "outputId": "4807a0a0-c253-4fda-bf0e-cab02d36a7f3"
      },
      "execution_count": 29,
      "outputs": [
        {
          "output_type": "execute_result",
          "data": {
            "text/plain": [
              "array(['CM', 'CF', 'RW', 'GK', 'CB', 'LW', 'LM', 'LB', 'RM', 'RB'],\n",
              "      dtype=object)"
            ]
          },
          "metadata": {},
          "execution_count": 29
        }
      ]
    },
    {
      "cell_type": "code",
      "source": [
        "merge_pos = {'LWB' : 'LW', 'RWB': 'RW', 'ST': 'CF', 'CAM': 'CM', 'CDM': 'CM'}\n",
        "df = df.replace({'BestPosition':merge_pos})"
      ],
      "metadata": {
        "id": "rUEErfBx1An4"
      },
      "execution_count": 28,
      "outputs": []
    },
    {
      "cell_type": "code",
      "source": [
        "mapping = {'CF':0, 'CM':1, 'RW':2, 'GK':3, 'CB':4, 'LW':5, 'LM': 6, 'LB':7, 'RM':8, 'RB': 9}"
      ],
      "metadata": {
        "id": "xtg381rW1CYk"
      },
      "execution_count": 30,
      "outputs": []
    },
    {
      "cell_type": "code",
      "source": [
        "df=df.replace({'BestPosition':mapping})"
      ],
      "metadata": {
        "id": "zjHFZQAU1qRJ"
      },
      "execution_count": 31,
      "outputs": []
    },
    {
      "cell_type": "code",
      "source": [
        "df['BestPosition'].unique()"
      ],
      "metadata": {
        "colab": {
          "base_uri": "https://localhost:8080/"
        },
        "id": "QW7irUkK1wnm",
        "outputId": "29b6422f-35c1-428a-ae9a-591123403387"
      },
      "execution_count": 36,
      "outputs": [
        {
          "output_type": "execute_result",
          "data": {
            "text/plain": [
              "array([1, 0, 2, 3, 4, 5, 6, 7, 8, 9])"
            ]
          },
          "metadata": {},
          "execution_count": 36
        }
      ]
    },
    {
      "cell_type": "code",
      "source": [
        "df.head()"
      ],
      "metadata": {
        "colab": {
          "base_uri": "https://localhost:8080/",
          "height": 273
        },
        "id": "TDVeCWgt2AfA",
        "outputId": "30542418-68ab-42fd-bcd7-3b8e104e69c2"
      },
      "execution_count": 37,
      "outputs": [
        {
          "output_type": "execute_result",
          "data": {
            "text/plain": [
              "       ID            Name  Age  Height  Weight  Overall  Potential  Growth  \\\n",
              "0  158023        L. Messi   35     169      67       91         91       0   \n",
              "1  165153      K. Benzema   34     185      81       91         91       0   \n",
              "2  188545  R. Lewandowski   33     185      81       91         91       0   \n",
              "3  192985    K. De Bruyne   31     181      70       91         91       0   \n",
              "4  231747       K. Mbappé   23     182      73       91         95       4   \n",
              "\n",
              "   TotalStats  BaseStats  ...  Penalties  Composure  Marking  StandingTackle  \\\n",
              "0        2190        452  ...         75         96       20              35   \n",
              "1        2147        455  ...         84         90       43              24   \n",
              "2        2205        458  ...         90         88       35              42   \n",
              "3        2303        483  ...         83         89       68              65   \n",
              "4        2177        470  ...         80         88       26              34   \n",
              "\n",
              "   SlidingTackle  GKDiving  GKHandling  GKKicking  GKPositioning  GKReflexes  \n",
              "0             24         6          11         15             14           8  \n",
              "1             18        13          11          5              5           7  \n",
              "2             19        15           6         12              8          10  \n",
              "3             53        15          13          5             10          13  \n",
              "4             32        13           5          7             11           6  \n",
              "\n",
              "[5 rows x 65 columns]"
            ],
            "text/html": [
              "\n",
              "  <div id=\"df-a0f53e82-5aa2-4c13-9622-f2b0f53cbf89\" class=\"colab-df-container\">\n",
              "    <div>\n",
              "<style scoped>\n",
              "    .dataframe tbody tr th:only-of-type {\n",
              "        vertical-align: middle;\n",
              "    }\n",
              "\n",
              "    .dataframe tbody tr th {\n",
              "        vertical-align: top;\n",
              "    }\n",
              "\n",
              "    .dataframe thead th {\n",
              "        text-align: right;\n",
              "    }\n",
              "</style>\n",
              "<table border=\"1\" class=\"dataframe\">\n",
              "  <thead>\n",
              "    <tr style=\"text-align: right;\">\n",
              "      <th></th>\n",
              "      <th>ID</th>\n",
              "      <th>Name</th>\n",
              "      <th>Age</th>\n",
              "      <th>Height</th>\n",
              "      <th>Weight</th>\n",
              "      <th>Overall</th>\n",
              "      <th>Potential</th>\n",
              "      <th>Growth</th>\n",
              "      <th>TotalStats</th>\n",
              "      <th>BaseStats</th>\n",
              "      <th>...</th>\n",
              "      <th>Penalties</th>\n",
              "      <th>Composure</th>\n",
              "      <th>Marking</th>\n",
              "      <th>StandingTackle</th>\n",
              "      <th>SlidingTackle</th>\n",
              "      <th>GKDiving</th>\n",
              "      <th>GKHandling</th>\n",
              "      <th>GKKicking</th>\n",
              "      <th>GKPositioning</th>\n",
              "      <th>GKReflexes</th>\n",
              "    </tr>\n",
              "  </thead>\n",
              "  <tbody>\n",
              "    <tr>\n",
              "      <th>0</th>\n",
              "      <td>158023</td>\n",
              "      <td>L. Messi</td>\n",
              "      <td>35</td>\n",
              "      <td>169</td>\n",
              "      <td>67</td>\n",
              "      <td>91</td>\n",
              "      <td>91</td>\n",
              "      <td>0</td>\n",
              "      <td>2190</td>\n",
              "      <td>452</td>\n",
              "      <td>...</td>\n",
              "      <td>75</td>\n",
              "      <td>96</td>\n",
              "      <td>20</td>\n",
              "      <td>35</td>\n",
              "      <td>24</td>\n",
              "      <td>6</td>\n",
              "      <td>11</td>\n",
              "      <td>15</td>\n",
              "      <td>14</td>\n",
              "      <td>8</td>\n",
              "    </tr>\n",
              "    <tr>\n",
              "      <th>1</th>\n",
              "      <td>165153</td>\n",
              "      <td>K. Benzema</td>\n",
              "      <td>34</td>\n",
              "      <td>185</td>\n",
              "      <td>81</td>\n",
              "      <td>91</td>\n",
              "      <td>91</td>\n",
              "      <td>0</td>\n",
              "      <td>2147</td>\n",
              "      <td>455</td>\n",
              "      <td>...</td>\n",
              "      <td>84</td>\n",
              "      <td>90</td>\n",
              "      <td>43</td>\n",
              "      <td>24</td>\n",
              "      <td>18</td>\n",
              "      <td>13</td>\n",
              "      <td>11</td>\n",
              "      <td>5</td>\n",
              "      <td>5</td>\n",
              "      <td>7</td>\n",
              "    </tr>\n",
              "    <tr>\n",
              "      <th>2</th>\n",
              "      <td>188545</td>\n",
              "      <td>R. Lewandowski</td>\n",
              "      <td>33</td>\n",
              "      <td>185</td>\n",
              "      <td>81</td>\n",
              "      <td>91</td>\n",
              "      <td>91</td>\n",
              "      <td>0</td>\n",
              "      <td>2205</td>\n",
              "      <td>458</td>\n",
              "      <td>...</td>\n",
              "      <td>90</td>\n",
              "      <td>88</td>\n",
              "      <td>35</td>\n",
              "      <td>42</td>\n",
              "      <td>19</td>\n",
              "      <td>15</td>\n",
              "      <td>6</td>\n",
              "      <td>12</td>\n",
              "      <td>8</td>\n",
              "      <td>10</td>\n",
              "    </tr>\n",
              "    <tr>\n",
              "      <th>3</th>\n",
              "      <td>192985</td>\n",
              "      <td>K. De Bruyne</td>\n",
              "      <td>31</td>\n",
              "      <td>181</td>\n",
              "      <td>70</td>\n",
              "      <td>91</td>\n",
              "      <td>91</td>\n",
              "      <td>0</td>\n",
              "      <td>2303</td>\n",
              "      <td>483</td>\n",
              "      <td>...</td>\n",
              "      <td>83</td>\n",
              "      <td>89</td>\n",
              "      <td>68</td>\n",
              "      <td>65</td>\n",
              "      <td>53</td>\n",
              "      <td>15</td>\n",
              "      <td>13</td>\n",
              "      <td>5</td>\n",
              "      <td>10</td>\n",
              "      <td>13</td>\n",
              "    </tr>\n",
              "    <tr>\n",
              "      <th>4</th>\n",
              "      <td>231747</td>\n",
              "      <td>K. Mbappé</td>\n",
              "      <td>23</td>\n",
              "      <td>182</td>\n",
              "      <td>73</td>\n",
              "      <td>91</td>\n",
              "      <td>95</td>\n",
              "      <td>4</td>\n",
              "      <td>2177</td>\n",
              "      <td>470</td>\n",
              "      <td>...</td>\n",
              "      <td>80</td>\n",
              "      <td>88</td>\n",
              "      <td>26</td>\n",
              "      <td>34</td>\n",
              "      <td>32</td>\n",
              "      <td>13</td>\n",
              "      <td>5</td>\n",
              "      <td>7</td>\n",
              "      <td>11</td>\n",
              "      <td>6</td>\n",
              "    </tr>\n",
              "  </tbody>\n",
              "</table>\n",
              "<p>5 rows × 65 columns</p>\n",
              "</div>\n",
              "    <div class=\"colab-df-buttons\">\n",
              "\n",
              "  <div class=\"colab-df-container\">\n",
              "    <button class=\"colab-df-convert\" onclick=\"convertToInteractive('df-a0f53e82-5aa2-4c13-9622-f2b0f53cbf89')\"\n",
              "            title=\"Convert this dataframe to an interactive table.\"\n",
              "            style=\"display:none;\">\n",
              "\n",
              "  <svg xmlns=\"http://www.w3.org/2000/svg\" height=\"24px\" viewBox=\"0 -960 960 960\">\n",
              "    <path d=\"M120-120v-720h720v720H120Zm60-500h600v-160H180v160Zm220 220h160v-160H400v160Zm0 220h160v-160H400v160ZM180-400h160v-160H180v160Zm440 0h160v-160H620v160ZM180-180h160v-160H180v160Zm440 0h160v-160H620v160Z\"/>\n",
              "  </svg>\n",
              "    </button>\n",
              "\n",
              "  <style>\n",
              "    .colab-df-container {\n",
              "      display:flex;\n",
              "      gap: 12px;\n",
              "    }\n",
              "\n",
              "    .colab-df-convert {\n",
              "      background-color: #E8F0FE;\n",
              "      border: none;\n",
              "      border-radius: 50%;\n",
              "      cursor: pointer;\n",
              "      display: none;\n",
              "      fill: #1967D2;\n",
              "      height: 32px;\n",
              "      padding: 0 0 0 0;\n",
              "      width: 32px;\n",
              "    }\n",
              "\n",
              "    .colab-df-convert:hover {\n",
              "      background-color: #E2EBFA;\n",
              "      box-shadow: 0px 1px 2px rgba(60, 64, 67, 0.3), 0px 1px 3px 1px rgba(60, 64, 67, 0.15);\n",
              "      fill: #174EA6;\n",
              "    }\n",
              "\n",
              "    .colab-df-buttons div {\n",
              "      margin-bottom: 4px;\n",
              "    }\n",
              "\n",
              "    [theme=dark] .colab-df-convert {\n",
              "      background-color: #3B4455;\n",
              "      fill: #D2E3FC;\n",
              "    }\n",
              "\n",
              "    [theme=dark] .colab-df-convert:hover {\n",
              "      background-color: #434B5C;\n",
              "      box-shadow: 0px 1px 3px 1px rgba(0, 0, 0, 0.15);\n",
              "      filter: drop-shadow(0px 1px 2px rgba(0, 0, 0, 0.3));\n",
              "      fill: #FFFFFF;\n",
              "    }\n",
              "  </style>\n",
              "\n",
              "    <script>\n",
              "      const buttonEl =\n",
              "        document.querySelector('#df-a0f53e82-5aa2-4c13-9622-f2b0f53cbf89 button.colab-df-convert');\n",
              "      buttonEl.style.display =\n",
              "        google.colab.kernel.accessAllowed ? 'block' : 'none';\n",
              "\n",
              "      async function convertToInteractive(key) {\n",
              "        const element = document.querySelector('#df-a0f53e82-5aa2-4c13-9622-f2b0f53cbf89');\n",
              "        const dataTable =\n",
              "          await google.colab.kernel.invokeFunction('convertToInteractive',\n",
              "                                                    [key], {});\n",
              "        if (!dataTable) return;\n",
              "\n",
              "        const docLinkHtml = 'Like what you see? Visit the ' +\n",
              "          '<a target=\"_blank\" href=https://colab.research.google.com/notebooks/data_table.ipynb>data table notebook</a>'\n",
              "          + ' to learn more about interactive tables.';\n",
              "        element.innerHTML = '';\n",
              "        dataTable['output_type'] = 'display_data';\n",
              "        await google.colab.output.renderOutput(dataTable, element);\n",
              "        const docLink = document.createElement('div');\n",
              "        docLink.innerHTML = docLinkHtml;\n",
              "        element.appendChild(docLink);\n",
              "      }\n",
              "    </script>\n",
              "  </div>\n",
              "\n",
              "\n",
              "<div id=\"df-6a5fcd86-fa34-4cc9-806d-19a16cdb74f8\">\n",
              "  <button class=\"colab-df-quickchart\" onclick=\"quickchart('df-6a5fcd86-fa34-4cc9-806d-19a16cdb74f8')\"\n",
              "            title=\"Suggest charts\"\n",
              "            style=\"display:none;\">\n",
              "\n",
              "<svg xmlns=\"http://www.w3.org/2000/svg\" height=\"24px\"viewBox=\"0 0 24 24\"\n",
              "     width=\"24px\">\n",
              "    <g>\n",
              "        <path d=\"M19 3H5c-1.1 0-2 .9-2 2v14c0 1.1.9 2 2 2h14c1.1 0 2-.9 2-2V5c0-1.1-.9-2-2-2zM9 17H7v-7h2v7zm4 0h-2V7h2v10zm4 0h-2v-4h2v4z\"/>\n",
              "    </g>\n",
              "</svg>\n",
              "  </button>\n",
              "\n",
              "<style>\n",
              "  .colab-df-quickchart {\n",
              "      --bg-color: #E8F0FE;\n",
              "      --fill-color: #1967D2;\n",
              "      --hover-bg-color: #E2EBFA;\n",
              "      --hover-fill-color: #174EA6;\n",
              "      --disabled-fill-color: #AAA;\n",
              "      --disabled-bg-color: #DDD;\n",
              "  }\n",
              "\n",
              "  [theme=dark] .colab-df-quickchart {\n",
              "      --bg-color: #3B4455;\n",
              "      --fill-color: #D2E3FC;\n",
              "      --hover-bg-color: #434B5C;\n",
              "      --hover-fill-color: #FFFFFF;\n",
              "      --disabled-bg-color: #3B4455;\n",
              "      --disabled-fill-color: #666;\n",
              "  }\n",
              "\n",
              "  .colab-df-quickchart {\n",
              "    background-color: var(--bg-color);\n",
              "    border: none;\n",
              "    border-radius: 50%;\n",
              "    cursor: pointer;\n",
              "    display: none;\n",
              "    fill: var(--fill-color);\n",
              "    height: 32px;\n",
              "    padding: 0;\n",
              "    width: 32px;\n",
              "  }\n",
              "\n",
              "  .colab-df-quickchart:hover {\n",
              "    background-color: var(--hover-bg-color);\n",
              "    box-shadow: 0 1px 2px rgba(60, 64, 67, 0.3), 0 1px 3px 1px rgba(60, 64, 67, 0.15);\n",
              "    fill: var(--button-hover-fill-color);\n",
              "  }\n",
              "\n",
              "  .colab-df-quickchart-complete:disabled,\n",
              "  .colab-df-quickchart-complete:disabled:hover {\n",
              "    background-color: var(--disabled-bg-color);\n",
              "    fill: var(--disabled-fill-color);\n",
              "    box-shadow: none;\n",
              "  }\n",
              "\n",
              "  .colab-df-spinner {\n",
              "    border: 2px solid var(--fill-color);\n",
              "    border-color: transparent;\n",
              "    border-bottom-color: var(--fill-color);\n",
              "    animation:\n",
              "      spin 1s steps(1) infinite;\n",
              "  }\n",
              "\n",
              "  @keyframes spin {\n",
              "    0% {\n",
              "      border-color: transparent;\n",
              "      border-bottom-color: var(--fill-color);\n",
              "      border-left-color: var(--fill-color);\n",
              "    }\n",
              "    20% {\n",
              "      border-color: transparent;\n",
              "      border-left-color: var(--fill-color);\n",
              "      border-top-color: var(--fill-color);\n",
              "    }\n",
              "    30% {\n",
              "      border-color: transparent;\n",
              "      border-left-color: var(--fill-color);\n",
              "      border-top-color: var(--fill-color);\n",
              "      border-right-color: var(--fill-color);\n",
              "    }\n",
              "    40% {\n",
              "      border-color: transparent;\n",
              "      border-right-color: var(--fill-color);\n",
              "      border-top-color: var(--fill-color);\n",
              "    }\n",
              "    60% {\n",
              "      border-color: transparent;\n",
              "      border-right-color: var(--fill-color);\n",
              "    }\n",
              "    80% {\n",
              "      border-color: transparent;\n",
              "      border-right-color: var(--fill-color);\n",
              "      border-bottom-color: var(--fill-color);\n",
              "    }\n",
              "    90% {\n",
              "      border-color: transparent;\n",
              "      border-bottom-color: var(--fill-color);\n",
              "    }\n",
              "  }\n",
              "</style>\n",
              "\n",
              "  <script>\n",
              "    async function quickchart(key) {\n",
              "      const quickchartButtonEl =\n",
              "        document.querySelector('#' + key + ' button');\n",
              "      quickchartButtonEl.disabled = true;  // To prevent multiple clicks.\n",
              "      quickchartButtonEl.classList.add('colab-df-spinner');\n",
              "      try {\n",
              "        const charts = await google.colab.kernel.invokeFunction(\n",
              "            'suggestCharts', [key], {});\n",
              "      } catch (error) {\n",
              "        console.error('Error during call to suggestCharts:', error);\n",
              "      }\n",
              "      quickchartButtonEl.classList.remove('colab-df-spinner');\n",
              "      quickchartButtonEl.classList.add('colab-df-quickchart-complete');\n",
              "    }\n",
              "    (() => {\n",
              "      let quickchartButtonEl =\n",
              "        document.querySelector('#df-6a5fcd86-fa34-4cc9-806d-19a16cdb74f8 button');\n",
              "      quickchartButtonEl.style.display =\n",
              "        google.colab.kernel.accessAllowed ? 'block' : 'none';\n",
              "    })();\n",
              "  </script>\n",
              "</div>\n",
              "\n",
              "    </div>\n",
              "  </div>\n"
            ],
            "application/vnd.google.colaboratory.intrinsic+json": {
              "type": "dataframe",
              "variable_name": "df"
            }
          },
          "metadata": {},
          "execution_count": 37
        }
      ]
    },
    {
      "cell_type": "markdown",
      "source": [
        "##Exporting the cleaned data"
      ],
      "metadata": {
        "id": "WQ6Uy4_b2SWr"
      }
    },
    {
      "cell_type": "code",
      "source": [
        "df.to_csv('fifa23_cleaned.csv', index = False)"
      ],
      "metadata": {
        "id": "jOFzCXJ810UM"
      },
      "execution_count": 38,
      "outputs": []
    },
    {
      "cell_type": "code",
      "source": [],
      "metadata": {
        "id": "IEbkxXJr2VjO"
      },
      "execution_count": null,
      "outputs": []
    },
    {
      "cell_type": "markdown",
      "source": [
        "#Splitting the data"
      ],
      "metadata": {
        "id": "pe1NMKz02zE_"
      }
    },
    {
      "cell_type": "code",
      "execution_count": 40,
      "metadata": {
        "id": "Ie718meKmh8s"
      },
      "outputs": [],
      "source": [
        "X = df.drop(['BestPosition', 'Nationality', 'ID'], axis = 1)\n",
        "Y = pd.DataFrame(df['BestPosition'])\n",
        "\n"
      ]
    },
    {
      "cell_type": "code",
      "execution_count": 41,
      "metadata": {
        "id": "q1r47bG4m609"
      },
      "outputs": [],
      "source": [
        "from sklearn.model_selection import train_test_split\n",
        "X_train, X_test, Y_train, Y_test = train_test_split(X, Y, test_size = 0.20, random_state = 42)"
      ]
    },
    {
      "cell_type": "code",
      "execution_count": 42,
      "metadata": {
        "id": "nEUMlRfmnirs"
      },
      "outputs": [],
      "source": [
        "X_train = X_train.drop(['Name'], axis = 1)\n",
        "test_names = X_test['Name']\n",
        "X_test = X_test.drop(['Name'], axis = 1)\n",
        "\n",
        "\n",
        "\n"
      ]
    },
    {
      "cell_type": "code",
      "source": [
        "top = df.sort_values(by = 'Overall', ascending = False).head(20)"
      ],
      "metadata": {
        "id": "Jc8bjJMN2Nit"
      },
      "execution_count": 43,
      "outputs": []
    },
    {
      "cell_type": "code",
      "source": [
        "top_pos = top['BestPosition']\n",
        "top_names = top['Name']\n",
        "top = top.drop(['Name', 'BestPosition', 'Nationality', 'ID'], axis = 1)\n",
        "top.head()"
      ],
      "metadata": {
        "colab": {
          "base_uri": "https://localhost:8080/",
          "height": 256
        },
        "id": "Yk6lybfm3Ca6",
        "outputId": "f9314f8f-0ab7-4742-b5a1-be9de7d33c64"
      },
      "execution_count": 44,
      "outputs": [
        {
          "output_type": "execute_result",
          "data": {
            "text/plain": [
              "   Age  Height  Weight  Overall  Potential  Growth  TotalStats  BaseStats  \\\n",
              "0   35     169      67       91         91       0        2190        452   \n",
              "2   33     185      81       91         91       0        2205        458   \n",
              "3   31     181      70       91         91       0        2303        483   \n",
              "4   23     182      73       91         95       4        2177        470   \n",
              "1   34     185      81       91         91       0        2147        455   \n",
              "\n",
              "   Club   ValueEUR  ...  Penalties  Composure  Marking  StandingTackle  \\\n",
              "0   453   54000000  ...         75         96       20              35   \n",
              "2   230   84000000  ...         90         88       35              42   \n",
              "3   399  107500000  ...         83         89       68              65   \n",
              "4   453  190500000  ...         80         88       26              34   \n",
              "1   494   64000000  ...         84         90       43              24   \n",
              "\n",
              "   SlidingTackle  GKDiving  GKHandling  GKKicking  GKPositioning  GKReflexes  \n",
              "0             24         6          11         15             14           8  \n",
              "2             19        15           6         12              8          10  \n",
              "3             53        15          13          5             10          13  \n",
              "4             32        13           5          7             11           6  \n",
              "1             18        13          11          5              5           7  \n",
              "\n",
              "[5 rows x 61 columns]"
            ],
            "text/html": [
              "\n",
              "  <div id=\"df-1710c95b-65dd-47e8-b1ec-2d2e63e5e04e\" class=\"colab-df-container\">\n",
              "    <div>\n",
              "<style scoped>\n",
              "    .dataframe tbody tr th:only-of-type {\n",
              "        vertical-align: middle;\n",
              "    }\n",
              "\n",
              "    .dataframe tbody tr th {\n",
              "        vertical-align: top;\n",
              "    }\n",
              "\n",
              "    .dataframe thead th {\n",
              "        text-align: right;\n",
              "    }\n",
              "</style>\n",
              "<table border=\"1\" class=\"dataframe\">\n",
              "  <thead>\n",
              "    <tr style=\"text-align: right;\">\n",
              "      <th></th>\n",
              "      <th>Age</th>\n",
              "      <th>Height</th>\n",
              "      <th>Weight</th>\n",
              "      <th>Overall</th>\n",
              "      <th>Potential</th>\n",
              "      <th>Growth</th>\n",
              "      <th>TotalStats</th>\n",
              "      <th>BaseStats</th>\n",
              "      <th>Club</th>\n",
              "      <th>ValueEUR</th>\n",
              "      <th>...</th>\n",
              "      <th>Penalties</th>\n",
              "      <th>Composure</th>\n",
              "      <th>Marking</th>\n",
              "      <th>StandingTackle</th>\n",
              "      <th>SlidingTackle</th>\n",
              "      <th>GKDiving</th>\n",
              "      <th>GKHandling</th>\n",
              "      <th>GKKicking</th>\n",
              "      <th>GKPositioning</th>\n",
              "      <th>GKReflexes</th>\n",
              "    </tr>\n",
              "  </thead>\n",
              "  <tbody>\n",
              "    <tr>\n",
              "      <th>0</th>\n",
              "      <td>35</td>\n",
              "      <td>169</td>\n",
              "      <td>67</td>\n",
              "      <td>91</td>\n",
              "      <td>91</td>\n",
              "      <td>0</td>\n",
              "      <td>2190</td>\n",
              "      <td>452</td>\n",
              "      <td>453</td>\n",
              "      <td>54000000</td>\n",
              "      <td>...</td>\n",
              "      <td>75</td>\n",
              "      <td>96</td>\n",
              "      <td>20</td>\n",
              "      <td>35</td>\n",
              "      <td>24</td>\n",
              "      <td>6</td>\n",
              "      <td>11</td>\n",
              "      <td>15</td>\n",
              "      <td>14</td>\n",
              "      <td>8</td>\n",
              "    </tr>\n",
              "    <tr>\n",
              "      <th>2</th>\n",
              "      <td>33</td>\n",
              "      <td>185</td>\n",
              "      <td>81</td>\n",
              "      <td>91</td>\n",
              "      <td>91</td>\n",
              "      <td>0</td>\n",
              "      <td>2205</td>\n",
              "      <td>458</td>\n",
              "      <td>230</td>\n",
              "      <td>84000000</td>\n",
              "      <td>...</td>\n",
              "      <td>90</td>\n",
              "      <td>88</td>\n",
              "      <td>35</td>\n",
              "      <td>42</td>\n",
              "      <td>19</td>\n",
              "      <td>15</td>\n",
              "      <td>6</td>\n",
              "      <td>12</td>\n",
              "      <td>8</td>\n",
              "      <td>10</td>\n",
              "    </tr>\n",
              "    <tr>\n",
              "      <th>3</th>\n",
              "      <td>31</td>\n",
              "      <td>181</td>\n",
              "      <td>70</td>\n",
              "      <td>91</td>\n",
              "      <td>91</td>\n",
              "      <td>0</td>\n",
              "      <td>2303</td>\n",
              "      <td>483</td>\n",
              "      <td>399</td>\n",
              "      <td>107500000</td>\n",
              "      <td>...</td>\n",
              "      <td>83</td>\n",
              "      <td>89</td>\n",
              "      <td>68</td>\n",
              "      <td>65</td>\n",
              "      <td>53</td>\n",
              "      <td>15</td>\n",
              "      <td>13</td>\n",
              "      <td>5</td>\n",
              "      <td>10</td>\n",
              "      <td>13</td>\n",
              "    </tr>\n",
              "    <tr>\n",
              "      <th>4</th>\n",
              "      <td>23</td>\n",
              "      <td>182</td>\n",
              "      <td>73</td>\n",
              "      <td>91</td>\n",
              "      <td>95</td>\n",
              "      <td>4</td>\n",
              "      <td>2177</td>\n",
              "      <td>470</td>\n",
              "      <td>453</td>\n",
              "      <td>190500000</td>\n",
              "      <td>...</td>\n",
              "      <td>80</td>\n",
              "      <td>88</td>\n",
              "      <td>26</td>\n",
              "      <td>34</td>\n",
              "      <td>32</td>\n",
              "      <td>13</td>\n",
              "      <td>5</td>\n",
              "      <td>7</td>\n",
              "      <td>11</td>\n",
              "      <td>6</td>\n",
              "    </tr>\n",
              "    <tr>\n",
              "      <th>1</th>\n",
              "      <td>34</td>\n",
              "      <td>185</td>\n",
              "      <td>81</td>\n",
              "      <td>91</td>\n",
              "      <td>91</td>\n",
              "      <td>0</td>\n",
              "      <td>2147</td>\n",
              "      <td>455</td>\n",
              "      <td>494</td>\n",
              "      <td>64000000</td>\n",
              "      <td>...</td>\n",
              "      <td>84</td>\n",
              "      <td>90</td>\n",
              "      <td>43</td>\n",
              "      <td>24</td>\n",
              "      <td>18</td>\n",
              "      <td>13</td>\n",
              "      <td>11</td>\n",
              "      <td>5</td>\n",
              "      <td>5</td>\n",
              "      <td>7</td>\n",
              "    </tr>\n",
              "  </tbody>\n",
              "</table>\n",
              "<p>5 rows × 61 columns</p>\n",
              "</div>\n",
              "    <div class=\"colab-df-buttons\">\n",
              "\n",
              "  <div class=\"colab-df-container\">\n",
              "    <button class=\"colab-df-convert\" onclick=\"convertToInteractive('df-1710c95b-65dd-47e8-b1ec-2d2e63e5e04e')\"\n",
              "            title=\"Convert this dataframe to an interactive table.\"\n",
              "            style=\"display:none;\">\n",
              "\n",
              "  <svg xmlns=\"http://www.w3.org/2000/svg\" height=\"24px\" viewBox=\"0 -960 960 960\">\n",
              "    <path d=\"M120-120v-720h720v720H120Zm60-500h600v-160H180v160Zm220 220h160v-160H400v160Zm0 220h160v-160H400v160ZM180-400h160v-160H180v160Zm440 0h160v-160H620v160ZM180-180h160v-160H180v160Zm440 0h160v-160H620v160Z\"/>\n",
              "  </svg>\n",
              "    </button>\n",
              "\n",
              "  <style>\n",
              "    .colab-df-container {\n",
              "      display:flex;\n",
              "      gap: 12px;\n",
              "    }\n",
              "\n",
              "    .colab-df-convert {\n",
              "      background-color: #E8F0FE;\n",
              "      border: none;\n",
              "      border-radius: 50%;\n",
              "      cursor: pointer;\n",
              "      display: none;\n",
              "      fill: #1967D2;\n",
              "      height: 32px;\n",
              "      padding: 0 0 0 0;\n",
              "      width: 32px;\n",
              "    }\n",
              "\n",
              "    .colab-df-convert:hover {\n",
              "      background-color: #E2EBFA;\n",
              "      box-shadow: 0px 1px 2px rgba(60, 64, 67, 0.3), 0px 1px 3px 1px rgba(60, 64, 67, 0.15);\n",
              "      fill: #174EA6;\n",
              "    }\n",
              "\n",
              "    .colab-df-buttons div {\n",
              "      margin-bottom: 4px;\n",
              "    }\n",
              "\n",
              "    [theme=dark] .colab-df-convert {\n",
              "      background-color: #3B4455;\n",
              "      fill: #D2E3FC;\n",
              "    }\n",
              "\n",
              "    [theme=dark] .colab-df-convert:hover {\n",
              "      background-color: #434B5C;\n",
              "      box-shadow: 0px 1px 3px 1px rgba(0, 0, 0, 0.15);\n",
              "      filter: drop-shadow(0px 1px 2px rgba(0, 0, 0, 0.3));\n",
              "      fill: #FFFFFF;\n",
              "    }\n",
              "  </style>\n",
              "\n",
              "    <script>\n",
              "      const buttonEl =\n",
              "        document.querySelector('#df-1710c95b-65dd-47e8-b1ec-2d2e63e5e04e button.colab-df-convert');\n",
              "      buttonEl.style.display =\n",
              "        google.colab.kernel.accessAllowed ? 'block' : 'none';\n",
              "\n",
              "      async function convertToInteractive(key) {\n",
              "        const element = document.querySelector('#df-1710c95b-65dd-47e8-b1ec-2d2e63e5e04e');\n",
              "        const dataTable =\n",
              "          await google.colab.kernel.invokeFunction('convertToInteractive',\n",
              "                                                    [key], {});\n",
              "        if (!dataTable) return;\n",
              "\n",
              "        const docLinkHtml = 'Like what you see? Visit the ' +\n",
              "          '<a target=\"_blank\" href=https://colab.research.google.com/notebooks/data_table.ipynb>data table notebook</a>'\n",
              "          + ' to learn more about interactive tables.';\n",
              "        element.innerHTML = '';\n",
              "        dataTable['output_type'] = 'display_data';\n",
              "        await google.colab.output.renderOutput(dataTable, element);\n",
              "        const docLink = document.createElement('div');\n",
              "        docLink.innerHTML = docLinkHtml;\n",
              "        element.appendChild(docLink);\n",
              "      }\n",
              "    </script>\n",
              "  </div>\n",
              "\n",
              "\n",
              "<div id=\"df-29e8e5c4-fa9d-4b7b-a2a0-bfe4c9c1a709\">\n",
              "  <button class=\"colab-df-quickchart\" onclick=\"quickchart('df-29e8e5c4-fa9d-4b7b-a2a0-bfe4c9c1a709')\"\n",
              "            title=\"Suggest charts\"\n",
              "            style=\"display:none;\">\n",
              "\n",
              "<svg xmlns=\"http://www.w3.org/2000/svg\" height=\"24px\"viewBox=\"0 0 24 24\"\n",
              "     width=\"24px\">\n",
              "    <g>\n",
              "        <path d=\"M19 3H5c-1.1 0-2 .9-2 2v14c0 1.1.9 2 2 2h14c1.1 0 2-.9 2-2V5c0-1.1-.9-2-2-2zM9 17H7v-7h2v7zm4 0h-2V7h2v10zm4 0h-2v-4h2v4z\"/>\n",
              "    </g>\n",
              "</svg>\n",
              "  </button>\n",
              "\n",
              "<style>\n",
              "  .colab-df-quickchart {\n",
              "      --bg-color: #E8F0FE;\n",
              "      --fill-color: #1967D2;\n",
              "      --hover-bg-color: #E2EBFA;\n",
              "      --hover-fill-color: #174EA6;\n",
              "      --disabled-fill-color: #AAA;\n",
              "      --disabled-bg-color: #DDD;\n",
              "  }\n",
              "\n",
              "  [theme=dark] .colab-df-quickchart {\n",
              "      --bg-color: #3B4455;\n",
              "      --fill-color: #D2E3FC;\n",
              "      --hover-bg-color: #434B5C;\n",
              "      --hover-fill-color: #FFFFFF;\n",
              "      --disabled-bg-color: #3B4455;\n",
              "      --disabled-fill-color: #666;\n",
              "  }\n",
              "\n",
              "  .colab-df-quickchart {\n",
              "    background-color: var(--bg-color);\n",
              "    border: none;\n",
              "    border-radius: 50%;\n",
              "    cursor: pointer;\n",
              "    display: none;\n",
              "    fill: var(--fill-color);\n",
              "    height: 32px;\n",
              "    padding: 0;\n",
              "    width: 32px;\n",
              "  }\n",
              "\n",
              "  .colab-df-quickchart:hover {\n",
              "    background-color: var(--hover-bg-color);\n",
              "    box-shadow: 0 1px 2px rgba(60, 64, 67, 0.3), 0 1px 3px 1px rgba(60, 64, 67, 0.15);\n",
              "    fill: var(--button-hover-fill-color);\n",
              "  }\n",
              "\n",
              "  .colab-df-quickchart-complete:disabled,\n",
              "  .colab-df-quickchart-complete:disabled:hover {\n",
              "    background-color: var(--disabled-bg-color);\n",
              "    fill: var(--disabled-fill-color);\n",
              "    box-shadow: none;\n",
              "  }\n",
              "\n",
              "  .colab-df-spinner {\n",
              "    border: 2px solid var(--fill-color);\n",
              "    border-color: transparent;\n",
              "    border-bottom-color: var(--fill-color);\n",
              "    animation:\n",
              "      spin 1s steps(1) infinite;\n",
              "  }\n",
              "\n",
              "  @keyframes spin {\n",
              "    0% {\n",
              "      border-color: transparent;\n",
              "      border-bottom-color: var(--fill-color);\n",
              "      border-left-color: var(--fill-color);\n",
              "    }\n",
              "    20% {\n",
              "      border-color: transparent;\n",
              "      border-left-color: var(--fill-color);\n",
              "      border-top-color: var(--fill-color);\n",
              "    }\n",
              "    30% {\n",
              "      border-color: transparent;\n",
              "      border-left-color: var(--fill-color);\n",
              "      border-top-color: var(--fill-color);\n",
              "      border-right-color: var(--fill-color);\n",
              "    }\n",
              "    40% {\n",
              "      border-color: transparent;\n",
              "      border-right-color: var(--fill-color);\n",
              "      border-top-color: var(--fill-color);\n",
              "    }\n",
              "    60% {\n",
              "      border-color: transparent;\n",
              "      border-right-color: var(--fill-color);\n",
              "    }\n",
              "    80% {\n",
              "      border-color: transparent;\n",
              "      border-right-color: var(--fill-color);\n",
              "      border-bottom-color: var(--fill-color);\n",
              "    }\n",
              "    90% {\n",
              "      border-color: transparent;\n",
              "      border-bottom-color: var(--fill-color);\n",
              "    }\n",
              "  }\n",
              "</style>\n",
              "\n",
              "  <script>\n",
              "    async function quickchart(key) {\n",
              "      const quickchartButtonEl =\n",
              "        document.querySelector('#' + key + ' button');\n",
              "      quickchartButtonEl.disabled = true;  // To prevent multiple clicks.\n",
              "      quickchartButtonEl.classList.add('colab-df-spinner');\n",
              "      try {\n",
              "        const charts = await google.colab.kernel.invokeFunction(\n",
              "            'suggestCharts', [key], {});\n",
              "      } catch (error) {\n",
              "        console.error('Error during call to suggestCharts:', error);\n",
              "      }\n",
              "      quickchartButtonEl.classList.remove('colab-df-spinner');\n",
              "      quickchartButtonEl.classList.add('colab-df-quickchart-complete');\n",
              "    }\n",
              "    (() => {\n",
              "      let quickchartButtonEl =\n",
              "        document.querySelector('#df-29e8e5c4-fa9d-4b7b-a2a0-bfe4c9c1a709 button');\n",
              "      quickchartButtonEl.style.display =\n",
              "        google.colab.kernel.accessAllowed ? 'block' : 'none';\n",
              "    })();\n",
              "  </script>\n",
              "</div>\n",
              "\n",
              "    </div>\n",
              "  </div>\n"
            ],
            "application/vnd.google.colaboratory.intrinsic+json": {
              "type": "dataframe",
              "variable_name": "top"
            }
          },
          "metadata": {},
          "execution_count": 44
        }
      ]
    },
    {
      "cell_type": "markdown",
      "source": [
        "##Handling the imbalance dataset"
      ],
      "metadata": {
        "id": "xBjLV-EV3QmU"
      }
    },
    {
      "cell_type": "code",
      "source": [
        "sns.countplot(x = 'BestPosition', data = Y_train)"
      ],
      "metadata": {
        "colab": {
          "base_uri": "https://localhost:8080/",
          "height": 469
        },
        "id": "Z8u7_EqD3H4S",
        "outputId": "a162174e-1c01-427d-afe1-8727dfbe5b45"
      },
      "execution_count": 45,
      "outputs": [
        {
          "output_type": "execute_result",
          "data": {
            "text/plain": [
              "<Axes: xlabel='BestPosition', ylabel='count'>"
            ]
          },
          "metadata": {},
          "execution_count": 45
        },
        {
          "output_type": "display_data",
          "data": {
            "text/plain": [
              "<Figure size 640x480 with 1 Axes>"
            ],
            "image/png": "[encoded data removed]"
          },
          "metadata": {}
        }
      ]
    },
    {
      "cell_type": "code",
      "execution_count": 46,
      "metadata": {
        "id": "f0IhQW7kqLgF"
      },
      "outputs": [],
      "source": [
        "from imblearn.over_sampling import RandomOverSampler"
      ]
    },
    {
      "cell_type": "code",
      "execution_count": 47,
      "metadata": {
        "id": "iIqHAOIfq8Sj"
      },
      "outputs": [],
      "source": [
        "oversample = RandomOverSampler(sampling_strategy = 'minority')"
      ]
    },
    {
      "cell_type": "code",
      "execution_count": 48,
      "metadata": {
        "id": "YcbaBkyFrF4b"
      },
      "outputs": [],
      "source": [
        "X_train, Y_train = oversample.fit_resample(X_train, Y_train)\n",
        "X_train, Y_train = oversample.fit_resample(X_train, Y_train)\n",
        "X_train, Y_train = oversample.fit_resample(X_train, Y_train)\n",
        "X_train, Y_train = oversample.fit_resample(X_train, Y_train)"
      ]
    },
    {
      "cell_type": "code",
      "source": [
        "sns.countplot(x = 'BestPosition', data = Y_train)"
      ],
      "metadata": {
        "colab": {
          "base_uri": "https://localhost:8080/",
          "height": 469
        },
        "id": "TWJ0nTYg3hFm",
        "outputId": "c551aa3a-0a09-4bf3-e6f1-37e0c43ae417"
      },
      "execution_count": 49,
      "outputs": [
        {
          "output_type": "execute_result",
          "data": {
            "text/plain": [
              "<Axes: xlabel='BestPosition', ylabel='count'>"
            ]
          },
          "metadata": {},
          "execution_count": 49
        },
        {
          "output_type": "display_data",
          "data": {
            "text/plain": [
              "<Figure size 640x480 with 1 Axes>"
            ],
            "image/png": "[encoded data removed]"
          },
          "metadata": {}
        }
      ]
    },
    {
      "cell_type": "markdown",
      "source": [
        "##Feature Scaling"
      ],
      "metadata": {
        "id": "fQejJ9FR3mCD"
      }
    },
    {
      "cell_type": "code",
      "source": [
        "from sklearn.preprocessing import MinMaxScaler\n",
        "mms = MinMaxScaler()\n",
        "\n",
        "X_train= mms.fit_transform(X_train)\n",
        "X_test= mms.fit_transform(X_test)\n",
        "\n",
        "top = mms.fit_transform(top)"
      ],
      "metadata": {
        "id": "KRa-9sib3kdF"
      },
      "execution_count": 50,
      "outputs": []
    },
    {
      "cell_type": "code",
      "source": [
        "X_train\n"
      ],
      "metadata": {
        "colab": {
          "base_uri": "https://localhost:8080/"
        },
        "id": "1Jg4FItH3rMa",
        "outputId": "f6ed0e19-edab-4261-dce2-d492e92bf5d4"
      },
      "execution_count": 51,
      "outputs": [
        {
          "output_type": "execute_result",
          "data": {
            "text/plain": [
              "array([[0.32142857, 0.54901961, 0.37254902, ..., 0.04395604, 0.06741573,\n",
              "        0.09090909],\n",
              "       [0.14285714, 0.35294118, 0.45098039, ..., 0.06593407, 0.07865169,\n",
              "        0.11363636],\n",
              "       [0.21428571, 0.29411765, 0.31372549, ..., 0.07692308, 0.14606742,\n",
              "        0.07954545],\n",
              "       ...,\n",
              "       [0.5       , 0.29411765, 0.2745098 , ..., 0.12087912, 0.13483146,\n",
              "        0.07954545],\n",
              "       [0.39285714, 0.50980392, 0.41176471, ..., 0.04395604, 0.14606742,\n",
              "        0.09090909],\n",
              "       [0.60714286, 0.39215686, 0.31372549, ..., 0.10989011, 0.1011236 ,\n",
              "        0.10227273]])"
            ]
          },
          "metadata": {},
          "execution_count": 51
        }
      ]
    },
    {
      "cell_type": "code",
      "source": [
        "X_train.shape"
      ],
      "metadata": {
        "colab": {
          "base_uri": "https://localhost:8080/"
        },
        "id": "RJzr9NE83uXt",
        "outputId": "6a92312a-bc10-489a-acea-28aac529bcef"
      },
      "execution_count": 52,
      "outputs": [
        {
          "output_type": "execute_result",
          "data": {
            "text/plain": [
              "(27732, 61)"
            ]
          },
          "metadata": {},
          "execution_count": 52
        }
      ]
    },
    {
      "cell_type": "markdown",
      "source": [
        "##Modelling\n"
      ],
      "metadata": {
        "id": "W4gv0Zef3yS_"
      }
    },
    {
      "cell_type": "markdown",
      "source": [
        "###Logistic Regression"
      ],
      "metadata": {
        "id": "ciF18FV_31XT"
      }
    },
    {
      "cell_type": "code",
      "execution_count": 54,
      "metadata": {
        "id": "S8_JJfQoElSX"
      },
      "outputs": [],
      "source": [
        "from sklearn.linear_model import LogisticRegression"
      ]
    },
    {
      "cell_type": "code",
      "source": [
        "lr = LogisticRegression()"
      ],
      "metadata": {
        "id": "38ayPYY57bG_"
      },
      "execution_count": 55,
      "outputs": []
    },
    {
      "cell_type": "code",
      "source": [
        "lr.fit(X_train, Y_train)"
      ],
      "metadata": {
        "colab": {
          "base_uri": "https://localhost:8080/",
          "height": 268
        },
        "id": "L7eC21gg7dMr",
        "outputId": "0d801982-a2da-46e1-a7d1-b977797af203"
      },
      "execution_count": 56,
      "outputs": [
        {
          "output_type": "stream",
          "name": "stderr",
          "text": [
            "/usr/local/lib/python3.10/dist-packages/sklearn/utils/validation.py:1143: DataConversionWarning: A column-vector y was passed when a 1d array was expected. Please change the shape of y to (n_samples, ), for example using ravel().\n",
            "  y = column_or_1d(y, warn=True)\n",
            "/usr/local/lib/python3.10/dist-packages/sklearn/linear_model/_logistic.py:458: ConvergenceWarning: lbfgs failed to converge (status=1):\n",
            "STOP: TOTAL NO. of ITERATIONS REACHED LIMIT.\n",
            "\n",
            "Increase the number of iterations (max_iter) or scale the data as shown in:\n",
            "    https://scikit-learn.org/stable/modules/preprocessing.html\n",
            "Please also refer to the documentation for alternative solver options:\n",
            "    https://scikit-learn.org/stable/modules/linear_model.html#logistic-regression\n",
            "  n_iter_i = _check_optimize_result(\n"
          ]
        },
        {
          "output_type": "execute_result",
          "data": {
            "text/plain": [
              "LogisticRegression()"
            ],
            "text/html": [
              "<style>#sk-container-id-1 {color: black;background-color: white;}#sk-container-id-1 pre{padding: 0;}#sk-container-id-1 div.sk-toggleable {background-color: white;}#sk-container-id-1 label.sk-toggleable__label {cursor: pointer;display: block;width: 100%;margin-bottom: 0;padding: 0.3em;box-sizing: border-box;text-align: center;}#sk-container-id-1 label.sk-toggleable__label-arrow:before {content: \"▸\";float: left;margin-right: 0.25em;color: #696969;}#sk-container-id-1 label.sk-toggleable__label-arrow:hover:before {color: black;}#sk-container-id-1 div.sk-estimator:hover label.sk-toggleable__label-arrow:before {color: black;}#sk-container-id-1 div.sk-toggleable__content {max-height: 0;max-width: 0;overflow: hidden;text-align: left;background-color: #f0f8ff;}#sk-container-id-1 div.sk-toggleable__content pre {margin: 0.2em;color: black;border-radius: 0.25em;background-color: #f0f8ff;}#sk-container-id-1 input.sk-toggleable__control:checked~div.sk-toggleable__content {max-height: 200px;max-width: 100%;overflow: auto;}#sk-container-id-1 input.sk-toggleable__control:checked~label.sk-toggleable__label-arrow:before {content: \"▾\";}#sk-container-id-1 div.sk-estimator input.sk-toggleable__control:checked~label.sk-toggleable__label {background-color: #d4ebff;}#sk-container-id-1 div.sk-label input.sk-toggleable__control:checked~label.sk-toggleable__label {background-color: #d4ebff;}#sk-container-id-1 input.sk-hidden--visually {border: 0;clip: rect(1px 1px 1px 1px);clip: rect(1px, 1px, 1px, 1px);height: 1px;margin: -1px;overflow: hidden;padding: 0;position: absolute;width: 1px;}#sk-container-id-1 div.sk-estimator {font-family: monospace;background-color: #f0f8ff;border: 1px dotted black;border-radius: 0.25em;box-sizing: border-box;margin-bottom: 0.5em;}#sk-container-id-1 div.sk-estimator:hover {background-color: #d4ebff;}#sk-container-id-1 div.sk-parallel-item::after {content: \"\";width: 100%;border-bottom: 1px solid gray;flex-grow: 1;}#sk-container-id-1 div.sk-label:hover label.sk-toggleable__label {background-color: #d4ebff;}#sk-container-id-1 div.sk-serial::before {content: \"\";position: absolute;border-left: 1px solid gray;box-sizing: border-box;top: 0;bottom: 0;left: 50%;z-index: 0;}#sk-container-id-1 div.sk-serial {display: flex;flex-direction: column;align-items: center;background-color: white;padding-right: 0.2em;padding-left: 0.2em;position: relative;}#sk-container-id-1 div.sk-item {position: relative;z-index: 1;}#sk-container-id-1 div.sk-parallel {display: flex;align-items: stretch;justify-content: center;background-color: white;position: relative;}#sk-container-id-1 div.sk-item::before, #sk-container-id-1 div.sk-parallel-item::before {content: \"\";position: absolute;border-left: 1px solid gray;box-sizing: border-box;top: 0;bottom: 0;left: 50%;z-index: -1;}#sk-container-id-1 div.sk-parallel-item {display: flex;flex-direction: column;z-index: 1;position: relative;background-color: white;}#sk-container-id-1 div.sk-parallel-item:first-child::after {align-self: flex-end;width: 50%;}#sk-container-id-1 div.sk-parallel-item:last-child::after {align-self: flex-start;width: 50%;}#sk-container-id-1 div.sk-parallel-item:only-child::after {width: 0;}#sk-container-id-1 div.sk-dashed-wrapped {border: 1px dashed gray;margin: 0 0.4em 0.5em 0.4em;box-sizing: border-box;padding-bottom: 0.4em;background-color: white;}#sk-container-id-1 div.sk-label label {font-family: monospace;font-weight: bold;display: inline-block;line-height: 1.2em;}#sk-container-id-1 div.sk-label-container {text-align: center;}#sk-container-id-1 div.sk-container {/* jupyter's `normalize.less` sets `[hidden] { display: none; }` but bootstrap.min.css set `[hidden] { display: none !important; }` so we also need the `!important` here to be able to override the default hidden behavior on the sphinx rendered scikit-learn.org. See: https://github.com/scikit-learn/scikit-learn/issues/21755 */display: inline-block !important;position: relative;}#sk-container-id-1 div.sk-text-repr-fallback {display: none;}</style><div id=\"sk-container-id-1\" class=\"sk-top-container\"><div class=\"sk-text-repr-fallback\"><pre>LogisticRegression()</pre><b>In a Jupyter environment, please rerun this cell to show the HTML representation or trust the notebook. <br />On GitHub, the HTML representation is unable to render, please try loading this page with nbviewer.org.</b></div><div class=\"sk-container\" hidden><div class=\"sk-item\"><div class=\"sk-estimator sk-toggleable\"><input class=\"sk-toggleable__control sk-hidden--visually\" id=\"sk-estimator-id-1\" type=\"checkbox\" checked><label for=\"sk-estimator-id-1\" class=\"sk-toggleable__label sk-toggleable__label-arrow\">LogisticRegression</label><div class=\"sk-toggleable__content\"><pre>LogisticRegression()</pre></div></div></div></div></div>"
            ]
          },
          "metadata": {},
          "execution_count": 56
        }
      ]
    },
    {
      "cell_type": "code",
      "source": [
        "Y_pred_lr = lr.predict(X_test)"
      ],
      "metadata": {
        "id": "1BdqJtsD7hDy"
      },
      "execution_count": 57,
      "outputs": []
    },
    {
      "cell_type": "code",
      "source": [
        "from sklearn.metrics import confusion_matrix, classification_report, accuracy_score"
      ],
      "metadata": {
        "id": "ynKjrM2E7rkJ"
      },
      "execution_count": 58,
      "outputs": []
    },
    {
      "cell_type": "code",
      "source": [
        "confusion_matrix(Y_test, Y_pred_lr)"
      ],
      "metadata": {
        "colab": {
          "base_uri": "https://localhost:8080/"
        },
        "id": "oyWrHNlK9A7N",
        "outputId": "a51f7a8d-23e7-46cb-9fc4-1c3cc32d949a"
      },
      "execution_count": 59,
      "outputs": [
        {
          "output_type": "execute_result",
          "data": {
            "text/plain": [
              "array([[461,   8,  15,   0,   0,   4,  26,   1,   7,   0],\n",
              "       [ 16, 709,  29,   0,  63,   7,  81,  19,  32,   6],\n",
              "       [  3,   5,  88,   0,   4,   3,  15,   0,   3,  11],\n",
              "       [  0,   0,   0, 391,   0,   0,   0,   0,   0,   0],\n",
              "       [  1,  10,   4,   0, 673,   0,   0,  18,   0,   5],\n",
              "       [  2,   2,  21,   0,   0,  24,  24,  40,   3,   0],\n",
              "       [  3,   5,  26,   0,   0,  14, 112,   7,   1,   0],\n",
              "       [  0,   1,   5,   0,   5,  18,   3, 144,   0,   2],\n",
              "       [  8,  35, 100,   0,   0,   5,  50,   0, 115,   0],\n",
              "       [  0,   2, 112,   0,  15,   1,   0,   3,   2,  62]])"
            ]
          },
          "metadata": {},
          "execution_count": 59
        }
      ]
    },
    {
      "cell_type": "code",
      "source": [
        "print(classification_report(Y_test, Y_pred_lr))"
      ],
      "metadata": {
        "colab": {
          "base_uri": "https://localhost:8080/"
        },
        "id": "PuEKCbsN75gB",
        "outputId": "98b7daf7-b828-47ff-80ff-2f047aec8240"
      },
      "execution_count": 60,
      "outputs": [
        {
          "output_type": "stream",
          "name": "stdout",
          "text": [
            "              precision    recall  f1-score   support\n",
            "\n",
            "           0       0.93      0.88      0.91       522\n",
            "           1       0.91      0.74      0.82       962\n",
            "           2       0.22      0.67      0.33       132\n",
            "           3       1.00      1.00      1.00       391\n",
            "           4       0.89      0.95      0.92       711\n",
            "           5       0.32      0.21      0.25       116\n",
            "           6       0.36      0.67      0.47       168\n",
            "           7       0.62      0.81      0.70       178\n",
            "           8       0.71      0.37      0.48       313\n",
            "           9       0.72      0.31      0.44       197\n",
            "\n",
            "    accuracy                           0.75      3690\n",
            "   macro avg       0.67      0.66      0.63      3690\n",
            "weighted avg       0.81      0.75      0.76      3690\n",
            "\n"
          ]
        }
      ]
    },
    {
      "cell_type": "markdown",
      "source": [
        "###Random Forest"
      ],
      "metadata": {
        "id": "4J7tm_V84Tt_"
      }
    },
    {
      "cell_type": "code",
      "source": [
        "from sklearn.ensemble import RandomForestClassifier"
      ],
      "metadata": {
        "id": "73uKwe6O8HLR"
      },
      "execution_count": 61,
      "outputs": []
    },
    {
      "cell_type": "code",
      "source": [
        "rf = RandomForestClassifier(criterion = 'entropy', n_estimators = 50)"
      ],
      "metadata": {
        "id": "uMTDwv-v8izM"
      },
      "execution_count": 62,
      "outputs": []
    },
    {
      "cell_type": "code",
      "source": [
        "rf.fit(X_train, Y_train)"
      ],
      "metadata": {
        "colab": {
          "base_uri": "https://localhost:8080/",
          "height": 129
        },
        "id": "my7tP4kL81GB",
        "outputId": "5e8ab541-dd94-4000-dec4-a258992292d7"
      },
      "execution_count": 63,
      "outputs": [
        {
          "output_type": "stream",
          "name": "stderr",
          "text": [
            "<ipython-input-63-d0055dbae671>:1: DataConversionWarning: A column-vector y was passed when a 1d array was expected. Please change the shape of y to (n_samples,), for example using ravel().\n",
            "  rf.fit(X_train, Y_train)\n"
          ]
        },
        {
          "output_type": "execute_result",
          "data": {
            "text/plain": [
              "RandomForestClassifier(criterion='entropy', n_estimators=50)"
            ],
            "text/html": [
              "<style>#sk-container-id-2 {color: black;background-color: white;}#sk-container-id-2 pre{padding: 0;}#sk-container-id-2 div.sk-toggleable {background-color: white;}#sk-container-id-2 label.sk-toggleable__label {cursor: pointer;display: block;width: 100%;margin-bottom: 0;padding: 0.3em;box-sizing: border-box;text-align: center;}#sk-container-id-2 label.sk-toggleable__label-arrow:before {content: \"▸\";float: left;margin-right: 0.25em;color: #696969;}#sk-container-id-2 label.sk-toggleable__label-arrow:hover:before {color: black;}#sk-container-id-2 div.sk-estimator:hover label.sk-toggleable__label-arrow:before {color: black;}#sk-container-id-2 div.sk-toggleable__content {max-height: 0;max-width: 0;overflow: hidden;text-align: left;background-color: #f0f8ff;}#sk-container-id-2 div.sk-toggleable__content pre {margin: 0.2em;color: black;border-radius: 0.25em;background-color: #f0f8ff;}#sk-container-id-2 input.sk-toggleable__control:checked~div.sk-toggleable__content {max-height: 200px;max-width: 100%;overflow: auto;}#sk-container-id-2 input.sk-toggleable__control:checked~label.sk-toggleable__label-arrow:before {content: \"▾\";}#sk-container-id-2 div.sk-estimator input.sk-toggleable__control:checked~label.sk-toggleable__label {background-color: #d4ebff;}#sk-container-id-2 div.sk-label input.sk-toggleable__control:checked~label.sk-toggleable__label {background-color: #d4ebff;}#sk-container-id-2 input.sk-hidden--visually {border: 0;clip: rect(1px 1px 1px 1px);clip: rect(1px, 1px, 1px, 1px);height: 1px;margin: -1px;overflow: hidden;padding: 0;position: absolute;width: 1px;}#sk-container-id-2 div.sk-estimator {font-family: monospace;background-color: #f0f8ff;border: 1px dotted black;border-radius: 0.25em;box-sizing: border-box;margin-bottom: 0.5em;}#sk-container-id-2 div.sk-estimator:hover {background-color: #d4ebff;}#sk-container-id-2 div.sk-parallel-item::after {content: \"\";width: 100%;border-bottom: 1px solid gray;flex-grow: 1;}#sk-container-id-2 div.sk-label:hover label.sk-toggleable__label {background-color: #d4ebff;}#sk-container-id-2 div.sk-serial::before {content: \"\";position: absolute;border-left: 1px solid gray;box-sizing: border-box;top: 0;bottom: 0;left: 50%;z-index: 0;}#sk-container-id-2 div.sk-serial {display: flex;flex-direction: column;align-items: center;background-color: white;padding-right: 0.2em;padding-left: 0.2em;position: relative;}#sk-container-id-2 div.sk-item {position: relative;z-index: 1;}#sk-container-id-2 div.sk-parallel {display: flex;align-items: stretch;justify-content: center;background-color: white;position: relative;}#sk-container-id-2 div.sk-item::before, #sk-container-id-2 div.sk-parallel-item::before {content: \"\";position: absolute;border-left: 1px solid gray;box-sizing: border-box;top: 0;bottom: 0;left: 50%;z-index: -1;}#sk-container-id-2 div.sk-parallel-item {display: flex;flex-direction: column;z-index: 1;position: relative;background-color: white;}#sk-container-id-2 div.sk-parallel-item:first-child::after {align-self: flex-end;width: 50%;}#sk-container-id-2 div.sk-parallel-item:last-child::after {align-self: flex-start;width: 50%;}#sk-container-id-2 div.sk-parallel-item:only-child::after {width: 0;}#sk-container-id-2 div.sk-dashed-wrapped {border: 1px dashed gray;margin: 0 0.4em 0.5em 0.4em;box-sizing: border-box;padding-bottom: 0.4em;background-color: white;}#sk-container-id-2 div.sk-label label {font-family: monospace;font-weight: bold;display: inline-block;line-height: 1.2em;}#sk-container-id-2 div.sk-label-container {text-align: center;}#sk-container-id-2 div.sk-container {/* jupyter's `normalize.less` sets `[hidden] { display: none; }` but bootstrap.min.css set `[hidden] { display: none !important; }` so we also need the `!important` here to be able to override the default hidden behavior on the sphinx rendered scikit-learn.org. See: https://github.com/scikit-learn/scikit-learn/issues/21755 */display: inline-block !important;position: relative;}#sk-container-id-2 div.sk-text-repr-fallback {display: none;}</style><div id=\"sk-container-id-2\" class=\"sk-top-container\"><div class=\"sk-text-repr-fallback\"><pre>RandomForestClassifier(criterion=&#x27;entropy&#x27;, n_estimators=50)</pre><b>In a Jupyter environment, please rerun this cell to show the HTML representation or trust the notebook. <br />On GitHub, the HTML representation is unable to render, please try loading this page with nbviewer.org.</b></div><div class=\"sk-container\" hidden><div class=\"sk-item\"><div class=\"sk-estimator sk-toggleable\"><input class=\"sk-toggleable__control sk-hidden--visually\" id=\"sk-estimator-id-2\" type=\"checkbox\" checked><label for=\"sk-estimator-id-2\" class=\"sk-toggleable__label sk-toggleable__label-arrow\">RandomForestClassifier</label><div class=\"sk-toggleable__content\"><pre>RandomForestClassifier(criterion=&#x27;entropy&#x27;, n_estimators=50)</pre></div></div></div></div></div>"
            ]
          },
          "metadata": {},
          "execution_count": 63
        }
      ]
    },
    {
      "cell_type": "code",
      "source": [
        "Y_pred_rf = rf.predict(X_test)"
      ],
      "metadata": {
        "id": "7yMD7rTd9Yi5"
      },
      "execution_count": 64,
      "outputs": []
    },
    {
      "cell_type": "code",
      "source": [
        "confusion_matrix(Y_test, Y_pred_rf)"
      ],
      "metadata": {
        "colab": {
          "base_uri": "https://localhost:8080/"
        },
        "outputId": "9c7101b2-4f90-483a-a618-2361c0e7b44d",
        "id": "ZhwgAoWD9Yi6"
      },
      "execution_count": 65,
      "outputs": [
        {
          "output_type": "execute_result",
          "data": {
            "text/plain": [
              "array([[484,   8,   3,   0,   1,   1,  11,   1,  13,   0],\n",
              "       [ 25, 817,   5,   0,  40,   4,  19,   7,  40,   5],\n",
              "       [ 11,  24,  43,   0,   4,   0,   6,   2,  12,  30],\n",
              "       [  0,   0,   0, 391,   0,   0,   0,   0,   0,   0],\n",
              "       [  0,  22,   0,   0, 671,   0,   0,  12,   0,   6],\n",
              "       [  7,  12,   9,   0,   0,  27,  13,  36,   9,   3],\n",
              "       [ 12,  25,  13,   0,   0,  10,  82,  12,  13,   1],\n",
              "       [  0,   1,   2,   0,  12,  20,   1, 136,   0,   6],\n",
              "       [ 22,  72,  17,   0,   0,   3,  15,   0, 177,   7],\n",
              "       [  0,  14,  34,   0,  14,   0,   0,   2,   5, 128]])"
            ]
          },
          "metadata": {},
          "execution_count": 65
        }
      ]
    },
    {
      "cell_type": "code",
      "source": [
        "print(classification_report(Y_test, Y_pred_rf))"
      ],
      "metadata": {
        "colab": {
          "base_uri": "https://localhost:8080/"
        },
        "outputId": "2f92f352-0280-406b-92e4-ddeeb9149664",
        "id": "hbaRy5DM9Yi6"
      },
      "execution_count": 66,
      "outputs": [
        {
          "output_type": "stream",
          "name": "stdout",
          "text": [
            "              precision    recall  f1-score   support\n",
            "\n",
            "           0       0.86      0.93      0.89       522\n",
            "           1       0.82      0.85      0.83       962\n",
            "           2       0.34      0.33      0.33       132\n",
            "           3       1.00      1.00      1.00       391\n",
            "           4       0.90      0.94      0.92       711\n",
            "           5       0.42      0.23      0.30       116\n",
            "           6       0.56      0.49      0.52       168\n",
            "           7       0.65      0.76      0.70       178\n",
            "           8       0.66      0.57      0.61       313\n",
            "           9       0.69      0.65      0.67       197\n",
            "\n",
            "    accuracy                           0.80      3690\n",
            "   macro avg       0.69      0.67      0.68      3690\n",
            "weighted avg       0.79      0.80      0.79      3690\n",
            "\n"
          ]
        }
      ]
    },
    {
      "cell_type": "markdown",
      "source": [
        "###Decision Tree"
      ],
      "metadata": {
        "id": "DLqN4MJo4iP7"
      }
    },
    {
      "cell_type": "code",
      "source": [
        "from sklearn.tree import DecisionTreeClassifier"
      ],
      "metadata": {
        "id": "kxhXmn2k9f4o"
      },
      "execution_count": 67,
      "outputs": []
    },
    {
      "cell_type": "code",
      "source": [
        "dt = DecisionTreeClassifier(max_features = 39, max_depth = 10)"
      ],
      "metadata": {
        "id": "jfCsHSfU-Bap"
      },
      "execution_count": 68,
      "outputs": []
    },
    {
      "cell_type": "code",
      "source": [
        "dt.fit(X_train, Y_train)"
      ],
      "metadata": {
        "colab": {
          "base_uri": "https://localhost:8080/",
          "height": 75
        },
        "id": "h7vnNcFh-Ich",
        "outputId": "b7fc8135-b487-4460-8b57-8f4f67921fec"
      },
      "execution_count": 69,
      "outputs": [
        {
          "output_type": "execute_result",
          "data": {
            "text/plain": [
              "DecisionTreeClassifier(max_depth=10, max_features=39)"
            ],
            "text/html": [
              "<style>#sk-container-id-3 {color: black;background-color: white;}#sk-container-id-3 pre{padding: 0;}#sk-container-id-3 div.sk-toggleable {background-color: white;}#sk-container-id-3 label.sk-toggleable__label {cursor: pointer;display: block;width: 100%;margin-bottom: 0;padding: 0.3em;box-sizing: border-box;text-align: center;}#sk-container-id-3 label.sk-toggleable__label-arrow:before {content: \"▸\";float: left;margin-right: 0.25em;color: #696969;}#sk-container-id-3 label.sk-toggleable__label-arrow:hover:before {color: black;}#sk-container-id-3 div.sk-estimator:hover label.sk-toggleable__label-arrow:before {color: black;}#sk-container-id-3 div.sk-toggleable__content {max-height: 0;max-width: 0;overflow: hidden;text-align: left;background-color: #f0f8ff;}#sk-container-id-3 div.sk-toggleable__content pre {margin: 0.2em;color: black;border-radius: 0.25em;background-color: #f0f8ff;}#sk-container-id-3 input.sk-toggleable__control:checked~div.sk-toggleable__content {max-height: 200px;max-width: 100%;overflow: auto;}#sk-container-id-3 input.sk-toggleable__control:checked~label.sk-toggleable__label-arrow:before {content: \"▾\";}#sk-container-id-3 div.sk-estimator input.sk-toggleable__control:checked~label.sk-toggleable__label {background-color: #d4ebff;}#sk-container-id-3 div.sk-label input.sk-toggleable__control:checked~label.sk-toggleable__label {background-color: #d4ebff;}#sk-container-id-3 input.sk-hidden--visually {border: 0;clip: rect(1px 1px 1px 1px);clip: rect(1px, 1px, 1px, 1px);height: 1px;margin: -1px;overflow: hidden;padding: 0;position: absolute;width: 1px;}#sk-container-id-3 div.sk-estimator {font-family: monospace;background-color: #f0f8ff;border: 1px dotted black;border-radius: 0.25em;box-sizing: border-box;margin-bottom: 0.5em;}#sk-container-id-3 div.sk-estimator:hover {background-color: #d4ebff;}#sk-container-id-3 div.sk-parallel-item::after {content: \"\";width: 100%;border-bottom: 1px solid gray;flex-grow: 1;}#sk-container-id-3 div.sk-label:hover label.sk-toggleable__label {background-color: #d4ebff;}#sk-container-id-3 div.sk-serial::before {content: \"\";position: absolute;border-left: 1px solid gray;box-sizing: border-box;top: 0;bottom: 0;left: 50%;z-index: 0;}#sk-container-id-3 div.sk-serial {display: flex;flex-direction: column;align-items: center;background-color: white;padding-right: 0.2em;padding-left: 0.2em;position: relative;}#sk-container-id-3 div.sk-item {position: relative;z-index: 1;}#sk-container-id-3 div.sk-parallel {display: flex;align-items: stretch;justify-content: center;background-color: white;position: relative;}#sk-container-id-3 div.sk-item::before, #sk-container-id-3 div.sk-parallel-item::before {content: \"\";position: absolute;border-left: 1px solid gray;box-sizing: border-box;top: 0;bottom: 0;left: 50%;z-index: -1;}#sk-container-id-3 div.sk-parallel-item {display: flex;flex-direction: column;z-index: 1;position: relative;background-color: white;}#sk-container-id-3 div.sk-parallel-item:first-child::after {align-self: flex-end;width: 50%;}#sk-container-id-3 div.sk-parallel-item:last-child::after {align-self: flex-start;width: 50%;}#sk-container-id-3 div.sk-parallel-item:only-child::after {width: 0;}#sk-container-id-3 div.sk-dashed-wrapped {border: 1px dashed gray;margin: 0 0.4em 0.5em 0.4em;box-sizing: border-box;padding-bottom: 0.4em;background-color: white;}#sk-container-id-3 div.sk-label label {font-family: monospace;font-weight: bold;display: inline-block;line-height: 1.2em;}#sk-container-id-3 div.sk-label-container {text-align: center;}#sk-container-id-3 div.sk-container {/* jupyter's `normalize.less` sets `[hidden] { display: none; }` but bootstrap.min.css set `[hidden] { display: none !important; }` so we also need the `!important` here to be able to override the default hidden behavior on the sphinx rendered scikit-learn.org. See: https://github.com/scikit-learn/scikit-learn/issues/21755 */display: inline-block !important;position: relative;}#sk-container-id-3 div.sk-text-repr-fallback {display: none;}</style><div id=\"sk-container-id-3\" class=\"sk-top-container\"><div class=\"sk-text-repr-fallback\"><pre>DecisionTreeClassifier(max_depth=10, max_features=39)</pre><b>In a Jupyter environment, please rerun this cell to show the HTML representation or trust the notebook. <br />On GitHub, the HTML representation is unable to render, please try loading this page with nbviewer.org.</b></div><div class=\"sk-container\" hidden><div class=\"sk-item\"><div class=\"sk-estimator sk-toggleable\"><input class=\"sk-toggleable__control sk-hidden--visually\" id=\"sk-estimator-id-3\" type=\"checkbox\" checked><label for=\"sk-estimator-id-3\" class=\"sk-toggleable__label sk-toggleable__label-arrow\">DecisionTreeClassifier</label><div class=\"sk-toggleable__content\"><pre>DecisionTreeClassifier(max_depth=10, max_features=39)</pre></div></div></div></div></div>"
            ]
          },
          "metadata": {},
          "execution_count": 69
        }
      ]
    },
    {
      "cell_type": "code",
      "source": [
        "Y_pred_dt = dt.predict(X_test)"
      ],
      "metadata": {
        "id": "TJ_cFSrh-Mdx"
      },
      "execution_count": 70,
      "outputs": []
    },
    {
      "cell_type": "code",
      "source": [
        "print(classification_report(Y_test, Y_pred_dt))"
      ],
      "metadata": {
        "colab": {
          "base_uri": "https://localhost:8080/"
        },
        "id": "USSoy21q-SEQ",
        "outputId": "4ad0db29-55fd-49af-e632-b20368be4cd6"
      },
      "execution_count": 71,
      "outputs": [
        {
          "output_type": "stream",
          "name": "stdout",
          "text": [
            "              precision    recall  f1-score   support\n",
            "\n",
            "           0       0.90      0.69      0.78       522\n",
            "           1       0.78      0.59      0.68       962\n",
            "           2       0.15      0.68      0.25       132\n",
            "           3       1.00      1.00      1.00       391\n",
            "           4       0.91      0.83      0.87       711\n",
            "           5       0.18      0.40      0.25       116\n",
            "           6       0.31      0.54      0.40       168\n",
            "           7       0.53      0.57      0.55       178\n",
            "           8       0.52      0.30      0.38       313\n",
            "           9       0.69      0.05      0.09       197\n",
            "\n",
            "    accuracy                           0.63      3690\n",
            "   macro avg       0.60      0.56      0.52      3690\n",
            "weighted avg       0.74      0.63      0.66      3690\n",
            "\n"
          ]
        }
      ]
    },
    {
      "cell_type": "markdown",
      "source": [
        "###SVM"
      ],
      "metadata": {
        "id": "-_5rldBZ4tzK"
      }
    },
    {
      "cell_type": "code",
      "source": [
        "from sklearn.svm import SVC"
      ],
      "metadata": {
        "id": "6RwDhPQQ-Y6g"
      },
      "execution_count": 72,
      "outputs": []
    },
    {
      "cell_type": "code",
      "source": [
        "svc =  SVC()"
      ],
      "metadata": {
        "id": "65Ue66m--ter"
      },
      "execution_count": 73,
      "outputs": []
    },
    {
      "cell_type": "code",
      "source": [
        "svc.fit(X_train, Y_train)"
      ],
      "metadata": {
        "colab": {
          "base_uri": "https://localhost:8080/",
          "height": 129
        },
        "id": "yNUO8Z50-vom",
        "outputId": "1cdaaf71-664b-4924-a5a1-93d025edfc45"
      },
      "execution_count": 74,
      "outputs": [
        {
          "output_type": "stream",
          "name": "stderr",
          "text": [
            "/usr/local/lib/python3.10/dist-packages/sklearn/utils/validation.py:1143: DataConversionWarning: A column-vector y was passed when a 1d array was expected. Please change the shape of y to (n_samples, ), for example using ravel().\n",
            "  y = column_or_1d(y, warn=True)\n"
          ]
        },
        {
          "output_type": "execute_result",
          "data": {
            "text/plain": [
              "SVC()"
            ],
            "text/html": [
              "<style>#sk-container-id-4 {color: black;background-color: white;}#sk-container-id-4 pre{padding: 0;}#sk-container-id-4 div.sk-toggleable {background-color: white;}#sk-container-id-4 label.sk-toggleable__label {cursor: pointer;display: block;width: 100%;margin-bottom: 0;padding: 0.3em;box-sizing: border-box;text-align: center;}#sk-container-id-4 label.sk-toggleable__label-arrow:before {content: \"▸\";float: left;margin-right: 0.25em;color: #696969;}#sk-container-id-4 label.sk-toggleable__label-arrow:hover:before {color: black;}#sk-container-id-4 div.sk-estimator:hover label.sk-toggleable__label-arrow:before {color: black;}#sk-container-id-4 div.sk-toggleable__content {max-height: 0;max-width: 0;overflow: hidden;text-align: left;background-color: #f0f8ff;}#sk-container-id-4 div.sk-toggleable__content pre {margin: 0.2em;color: black;border-radius: 0.25em;background-color: #f0f8ff;}#sk-container-id-4 input.sk-toggleable__control:checked~div.sk-toggleable__content {max-height: 200px;max-width: 100%;overflow: auto;}#sk-container-id-4 input.sk-toggleable__control:checked~label.sk-toggleable__label-arrow:before {content: \"▾\";}#sk-container-id-4 div.sk-estimator input.sk-toggleable__control:checked~label.sk-toggleable__label {background-color: #d4ebff;}#sk-container-id-4 div.sk-label input.sk-toggleable__control:checked~label.sk-toggleable__label {background-color: #d4ebff;}#sk-container-id-4 input.sk-hidden--visually {border: 0;clip: rect(1px 1px 1px 1px);clip: rect(1px, 1px, 1px, 1px);height: 1px;margin: -1px;overflow: hidden;padding: 0;position: absolute;width: 1px;}#sk-container-id-4 div.sk-estimator {font-family: monospace;background-color: #f0f8ff;border: 1px dotted black;border-radius: 0.25em;box-sizing: border-box;margin-bottom: 0.5em;}#sk-container-id-4 div.sk-estimator:hover {background-color: #d4ebff;}#sk-container-id-4 div.sk-parallel-item::after {content: \"\";width: 100%;border-bottom: 1px solid gray;flex-grow: 1;}#sk-container-id-4 div.sk-label:hover label.sk-toggleable__label {background-color: #d4ebff;}#sk-container-id-4 div.sk-serial::before {content: \"\";position: absolute;border-left: 1px solid gray;box-sizing: border-box;top: 0;bottom: 0;left: 50%;z-index: 0;}#sk-container-id-4 div.sk-serial {display: flex;flex-direction: column;align-items: center;background-color: white;padding-right: 0.2em;padding-left: 0.2em;position: relative;}#sk-container-id-4 div.sk-item {position: relative;z-index: 1;}#sk-container-id-4 div.sk-parallel {display: flex;align-items: stretch;justify-content: center;background-color: white;position: relative;}#sk-container-id-4 div.sk-item::before, #sk-container-id-4 div.sk-parallel-item::before {content: \"\";position: absolute;border-left: 1px solid gray;box-sizing: border-box;top: 0;bottom: 0;left: 50%;z-index: -1;}#sk-container-id-4 div.sk-parallel-item {display: flex;flex-direction: column;z-index: 1;position: relative;background-color: white;}#sk-container-id-4 div.sk-parallel-item:first-child::after {align-self: flex-end;width: 50%;}#sk-container-id-4 div.sk-parallel-item:last-child::after {align-self: flex-start;width: 50%;}#sk-container-id-4 div.sk-parallel-item:only-child::after {width: 0;}#sk-container-id-4 div.sk-dashed-wrapped {border: 1px dashed gray;margin: 0 0.4em 0.5em 0.4em;box-sizing: border-box;padding-bottom: 0.4em;background-color: white;}#sk-container-id-4 div.sk-label label {font-family: monospace;font-weight: bold;display: inline-block;line-height: 1.2em;}#sk-container-id-4 div.sk-label-container {text-align: center;}#sk-container-id-4 div.sk-container {/* jupyter's `normalize.less` sets `[hidden] { display: none; }` but bootstrap.min.css set `[hidden] { display: none !important; }` so we also need the `!important` here to be able to override the default hidden behavior on the sphinx rendered scikit-learn.org. See: https://github.com/scikit-learn/scikit-learn/issues/21755 */display: inline-block !important;position: relative;}#sk-container-id-4 div.sk-text-repr-fallback {display: none;}</style><div id=\"sk-container-id-4\" class=\"sk-top-container\"><div class=\"sk-text-repr-fallback\"><pre>SVC()</pre><b>In a Jupyter environment, please rerun this cell to show the HTML representation or trust the notebook. <br />On GitHub, the HTML representation is unable to render, please try loading this page with nbviewer.org.</b></div><div class=\"sk-container\" hidden><div class=\"sk-item\"><div class=\"sk-estimator sk-toggleable\"><input class=\"sk-toggleable__control sk-hidden--visually\" id=\"sk-estimator-id-4\" type=\"checkbox\" checked><label for=\"sk-estimator-id-4\" class=\"sk-toggleable__label sk-toggleable__label-arrow\">SVC</label><div class=\"sk-toggleable__content\"><pre>SVC()</pre></div></div></div></div></div>"
            ]
          },
          "metadata": {},
          "execution_count": 74
        }
      ]
    },
    {
      "cell_type": "code",
      "source": [
        "Y_pred_svc = svc.predict(X_test)"
      ],
      "metadata": {
        "id": "UurFEtvn-yjQ"
      },
      "execution_count": null,
      "outputs": []
    },
    {
      "cell_type": "code",
      "source": [
        "print(classification_report(Y_test, Y_pred_svc))"
      ],
      "metadata": {
        "colab": {
          "base_uri": "https://localhost:8080/"
        },
        "id": "uwzYnle4_G5Q",
        "outputId": "412843f2-6c1a-49b5-f34b-53cc836cc927"
      },
      "execution_count": null,
      "outputs": [
        {
          "output_type": "stream",
          "name": "stdout",
          "text": [
            "              precision    recall  f1-score   support\n",
            "\n",
            "           0       0.93      0.89      0.91       522\n",
            "           1       0.92      0.77      0.84       962\n",
            "           2       0.23      0.77      0.35       132\n",
            "           3       1.00      1.00      1.00       391\n",
            "           4       0.93      0.94      0.94       711\n",
            "           5       0.37      0.49      0.42       116\n",
            "           6       0.42      0.69      0.52       168\n",
            "           7       0.68      0.72      0.70       178\n",
            "           8       0.75      0.44      0.55       313\n",
            "           9       0.78      0.11      0.19       197\n",
            "\n",
            "    accuracy                           0.77      3690\n",
            "   macro avg       0.70      0.68      0.64      3690\n",
            "weighted avg       0.83      0.77      0.77      3690\n",
            "\n"
          ]
        }
      ]
    },
    {
      "cell_type": "markdown",
      "source": [
        "###Ensemble Methods"
      ],
      "metadata": {
        "id": "8vhVgHfn5t4w"
      }
    },
    {
      "cell_type": "code",
      "source": [
        "from sklearn.ensemble import AdaBoostClassifier"
      ],
      "metadata": {
        "id": "fABI4IP9_apA"
      },
      "execution_count": 76,
      "outputs": []
    },
    {
      "cell_type": "code",
      "source": [
        "ada = AdaBoostClassifier()"
      ],
      "metadata": {
        "id": "UaH4wSjLAE-3"
      },
      "execution_count": 77,
      "outputs": []
    },
    {
      "cell_type": "code",
      "source": [
        "ada.fit(X_train, Y_train)"
      ],
      "metadata": {
        "colab": {
          "base_uri": "https://localhost:8080/",
          "height": 129
        },
        "id": "SlJKQKhfAJD3",
        "outputId": "10a2f996-6520-432e-f6fe-55cbc72a3a74"
      },
      "execution_count": 78,
      "outputs": [
        {
          "output_type": "stream",
          "name": "stderr",
          "text": [
            "/usr/local/lib/python3.10/dist-packages/sklearn/utils/validation.py:1143: DataConversionWarning: A column-vector y was passed when a 1d array was expected. Please change the shape of y to (n_samples, ), for example using ravel().\n",
            "  y = column_or_1d(y, warn=True)\n"
          ]
        },
        {
          "output_type": "execute_result",
          "data": {
            "text/plain": [
              "AdaBoostClassifier()"
            ],
            "text/html": [
              "<style>#sk-container-id-5 {color: black;background-color: white;}#sk-container-id-5 pre{padding: 0;}#sk-container-id-5 div.sk-toggleable {background-color: white;}#sk-container-id-5 label.sk-toggleable__label {cursor: pointer;display: block;width: 100%;margin-bottom: 0;padding: 0.3em;box-sizing: border-box;text-align: center;}#sk-container-id-5 label.sk-toggleable__label-arrow:before {content: \"▸\";float: left;margin-right: 0.25em;color: #696969;}#sk-container-id-5 label.sk-toggleable__label-arrow:hover:before {color: black;}#sk-container-id-5 div.sk-estimator:hover label.sk-toggleable__label-arrow:before {color: black;}#sk-container-id-5 div.sk-toggleable__content {max-height: 0;max-width: 0;overflow: hidden;text-align: left;background-color: #f0f8ff;}#sk-container-id-5 div.sk-toggleable__content pre {margin: 0.2em;color: black;border-radius: 0.25em;background-color: #f0f8ff;}#sk-container-id-5 input.sk-toggleable__control:checked~div.sk-toggleable__content {max-height: 200px;max-width: 100%;overflow: auto;}#sk-container-id-5 input.sk-toggleable__control:checked~label.sk-toggleable__label-arrow:before {content: \"▾\";}#sk-container-id-5 div.sk-estimator input.sk-toggleable__control:checked~label.sk-toggleable__label {background-color: #d4ebff;}#sk-container-id-5 div.sk-label input.sk-toggleable__control:checked~label.sk-toggleable__label {background-color: #d4ebff;}#sk-container-id-5 input.sk-hidden--visually {border: 0;clip: rect(1px 1px 1px 1px);clip: rect(1px, 1px, 1px, 1px);height: 1px;margin: -1px;overflow: hidden;padding: 0;position: absolute;width: 1px;}#sk-container-id-5 div.sk-estimator {font-family: monospace;background-color: #f0f8ff;border: 1px dotted black;border-radius: 0.25em;box-sizing: border-box;margin-bottom: 0.5em;}#sk-container-id-5 div.sk-estimator:hover {background-color: #d4ebff;}#sk-container-id-5 div.sk-parallel-item::after {content: \"\";width: 100%;border-bottom: 1px solid gray;flex-grow: 1;}#sk-container-id-5 div.sk-label:hover label.sk-toggleable__label {background-color: #d4ebff;}#sk-container-id-5 div.sk-serial::before {content: \"\";position: absolute;border-left: 1px solid gray;box-sizing: border-box;top: 0;bottom: 0;left: 50%;z-index: 0;}#sk-container-id-5 div.sk-serial {display: flex;flex-direction: column;align-items: center;background-color: white;padding-right: 0.2em;padding-left: 0.2em;position: relative;}#sk-container-id-5 div.sk-item {position: relative;z-index: 1;}#sk-container-id-5 div.sk-parallel {display: flex;align-items: stretch;justify-content: center;background-color: white;position: relative;}#sk-container-id-5 div.sk-item::before, #sk-container-id-5 div.sk-parallel-item::before {content: \"\";position: absolute;border-left: 1px solid gray;box-sizing: border-box;top: 0;bottom: 0;left: 50%;z-index: -1;}#sk-container-id-5 div.sk-parallel-item {display: flex;flex-direction: column;z-index: 1;position: relative;background-color: white;}#sk-container-id-5 div.sk-parallel-item:first-child::after {align-self: flex-end;width: 50%;}#sk-container-id-5 div.sk-parallel-item:last-child::after {align-self: flex-start;width: 50%;}#sk-container-id-5 div.sk-parallel-item:only-child::after {width: 0;}#sk-container-id-5 div.sk-dashed-wrapped {border: 1px dashed gray;margin: 0 0.4em 0.5em 0.4em;box-sizing: border-box;padding-bottom: 0.4em;background-color: white;}#sk-container-id-5 div.sk-label label {font-family: monospace;font-weight: bold;display: inline-block;line-height: 1.2em;}#sk-container-id-5 div.sk-label-container {text-align: center;}#sk-container-id-5 div.sk-container {/* jupyter's `normalize.less` sets `[hidden] { display: none; }` but bootstrap.min.css set `[hidden] { display: none !important; }` so we also need the `!important` here to be able to override the default hidden behavior on the sphinx rendered scikit-learn.org. See: https://github.com/scikit-learn/scikit-learn/issues/21755 */display: inline-block !important;position: relative;}#sk-container-id-5 div.sk-text-repr-fallback {display: none;}</style><div id=\"sk-container-id-5\" class=\"sk-top-container\"><div class=\"sk-text-repr-fallback\"><pre>AdaBoostClassifier()</pre><b>In a Jupyter environment, please rerun this cell to show the HTML representation or trust the notebook. <br />On GitHub, the HTML representation is unable to render, please try loading this page with nbviewer.org.</b></div><div class=\"sk-container\" hidden><div class=\"sk-item\"><div class=\"sk-estimator sk-toggleable\"><input class=\"sk-toggleable__control sk-hidden--visually\" id=\"sk-estimator-id-5\" type=\"checkbox\" checked><label for=\"sk-estimator-id-5\" class=\"sk-toggleable__label sk-toggleable__label-arrow\">AdaBoostClassifier</label><div class=\"sk-toggleable__content\"><pre>AdaBoostClassifier()</pre></div></div></div></div></div>"
            ]
          },
          "metadata": {},
          "execution_count": 78
        }
      ]
    },
    {
      "cell_type": "code",
      "source": [
        "Y_pred_adadt = ada.predict(X_test)"
      ],
      "metadata": {
        "id": "l_feYUOiAL7X"
      },
      "execution_count": 79,
      "outputs": []
    },
    {
      "cell_type": "code",
      "source": [
        "print(classification_report(Y_test, Y_pred_adadt))"
      ],
      "metadata": {
        "colab": {
          "base_uri": "https://localhost:8080/"
        },
        "id": "ASaWM7qHArFg",
        "outputId": "14de60da-fea3-46e5-9493-04fc564f87c9"
      },
      "execution_count": 80,
      "outputs": [
        {
          "output_type": "stream",
          "name": "stdout",
          "text": [
            "              precision    recall  f1-score   support\n",
            "\n",
            "           0       0.72      0.80      0.76       522\n",
            "           1       0.81      0.36      0.50       962\n",
            "           2       0.08      0.25      0.12       132\n",
            "           3       1.00      1.00      1.00       391\n",
            "           4       0.79      0.82      0.81       711\n",
            "           5       0.16      0.17      0.17       116\n",
            "           6       0.31      0.48      0.38       168\n",
            "           7       0.43      0.67      0.53       178\n",
            "           8       0.40      0.30      0.35       313\n",
            "           9       0.43      0.50      0.46       197\n",
            "\n",
            "    accuracy                           0.59      3690\n",
            "   macro avg       0.51      0.54      0.51      3690\n",
            "weighted avg       0.67      0.59      0.61      3690\n",
            "\n"
          ]
        }
      ]
    },
    {
      "cell_type": "code",
      "source": [
        "ada_lr = AdaBoostClassifier(LogisticRegression())"
      ],
      "metadata": {
        "id": "GjE-t4-zAwDe"
      },
      "execution_count": 81,
      "outputs": []
    },
    {
      "cell_type": "code",
      "source": [
        "ada_lr.fit(X_train, Y_train)"
      ],
      "metadata": {
        "colab": {
          "base_uri": "https://localhost:8080/",
          "height": 241
        },
        "id": "bsmvwF6XBJ-u",
        "outputId": "095aae96-48f5-4b4d-e031-6cfac7f5a554"
      },
      "execution_count": 82,
      "outputs": [
        {
          "output_type": "stream",
          "name": "stderr",
          "text": [
            "/usr/local/lib/python3.10/dist-packages/sklearn/utils/validation.py:1143: DataConversionWarning: A column-vector y was passed when a 1d array was expected. Please change the shape of y to (n_samples, ), for example using ravel().\n",
            "  y = column_or_1d(y, warn=True)\n"
          ]
        },
        {
          "output_type": "execute_result",
          "data": {
            "text/plain": [
              "AdaBoostClassifier(estimator=LogisticRegression())"
            ],
            "text/html": [
              "<style>#sk-container-id-6 {color: black;background-color: white;}#sk-container-id-6 pre{padding: 0;}#sk-container-id-6 div.sk-toggleable {background-color: white;}#sk-container-id-6 label.sk-toggleable__label {cursor: pointer;display: block;width: 100%;margin-bottom: 0;padding: 0.3em;box-sizing: border-box;text-align: center;}#sk-container-id-6 label.sk-toggleable__label-arrow:before {content: \"▸\";float: left;margin-right: 0.25em;color: #696969;}#sk-container-id-6 label.sk-toggleable__label-arrow:hover:before {color: black;}#sk-container-id-6 div.sk-estimator:hover label.sk-toggleable__label-arrow:before {color: black;}#sk-container-id-6 div.sk-toggleable__content {max-height: 0;max-width: 0;overflow: hidden;text-align: left;background-color: #f0f8ff;}#sk-container-id-6 div.sk-toggleable__content pre {margin: 0.2em;color: black;border-radius: 0.25em;background-color: #f0f8ff;}#sk-container-id-6 input.sk-toggleable__control:checked~div.sk-toggleable__content {max-height: 200px;max-width: 100%;overflow: auto;}#sk-container-id-6 input.sk-toggleable__control:checked~label.sk-toggleable__label-arrow:before {content: \"▾\";}#sk-container-id-6 div.sk-estimator input.sk-toggleable__control:checked~label.sk-toggleable__label {background-color: #d4ebff;}#sk-container-id-6 div.sk-label input.sk-toggleable__control:checked~label.sk-toggleable__label {background-color: #d4ebff;}#sk-container-id-6 input.sk-hidden--visually {border: 0;clip: rect(1px 1px 1px 1px);clip: rect(1px, 1px, 1px, 1px);height: 1px;margin: -1px;overflow: hidden;padding: 0;position: absolute;width: 1px;}#sk-container-id-6 div.sk-estimator {font-family: monospace;background-color: #f0f8ff;border: 1px dotted black;border-radius: 0.25em;box-sizing: border-box;margin-bottom: 0.5em;}#sk-container-id-6 div.sk-estimator:hover {background-color: #d4ebff;}#sk-container-id-6 div.sk-parallel-item::after {content: \"\";width: 100%;border-bottom: 1px solid gray;flex-grow: 1;}#sk-container-id-6 div.sk-label:hover label.sk-toggleable__label {background-color: #d4ebff;}#sk-container-id-6 div.sk-serial::before {content: \"\";position: absolute;border-left: 1px solid gray;box-sizing: border-box;top: 0;bottom: 0;left: 50%;z-index: 0;}#sk-container-id-6 div.sk-serial {display: flex;flex-direction: column;align-items: center;background-color: white;padding-right: 0.2em;padding-left: 0.2em;position: relative;}#sk-container-id-6 div.sk-item {position: relative;z-index: 1;}#sk-container-id-6 div.sk-parallel {display: flex;align-items: stretch;justify-content: center;background-color: white;position: relative;}#sk-container-id-6 div.sk-item::before, #sk-container-id-6 div.sk-parallel-item::before {content: \"\";position: absolute;border-left: 1px solid gray;box-sizing: border-box;top: 0;bottom: 0;left: 50%;z-index: -1;}#sk-container-id-6 div.sk-parallel-item {display: flex;flex-direction: column;z-index: 1;position: relative;background-color: white;}#sk-container-id-6 div.sk-parallel-item:first-child::after {align-self: flex-end;width: 50%;}#sk-container-id-6 div.sk-parallel-item:last-child::after {align-self: flex-start;width: 50%;}#sk-container-id-6 div.sk-parallel-item:only-child::after {width: 0;}#sk-container-id-6 div.sk-dashed-wrapped {border: 1px dashed gray;margin: 0 0.4em 0.5em 0.4em;box-sizing: border-box;padding-bottom: 0.4em;background-color: white;}#sk-container-id-6 div.sk-label label {font-family: monospace;font-weight: bold;display: inline-block;line-height: 1.2em;}#sk-container-id-6 div.sk-label-container {text-align: center;}#sk-container-id-6 div.sk-container {/* jupyter's `normalize.less` sets `[hidden] { display: none; }` but bootstrap.min.css set `[hidden] { display: none !important; }` so we also need the `!important` here to be able to override the default hidden behavior on the sphinx rendered scikit-learn.org. See: https://github.com/scikit-learn/scikit-learn/issues/21755 */display: inline-block !important;position: relative;}#sk-container-id-6 div.sk-text-repr-fallback {display: none;}</style><div id=\"sk-container-id-6\" class=\"sk-top-container\"><div class=\"sk-text-repr-fallback\"><pre>AdaBoostClassifier(estimator=LogisticRegression())</pre><b>In a Jupyter environment, please rerun this cell to show the HTML representation or trust the notebook. <br />On GitHub, the HTML representation is unable to render, please try loading this page with nbviewer.org.</b></div><div class=\"sk-container\" hidden><div class=\"sk-item sk-dashed-wrapped\"><div class=\"sk-label-container\"><div class=\"sk-label sk-toggleable\"><input class=\"sk-toggleable__control sk-hidden--visually\" id=\"sk-estimator-id-6\" type=\"checkbox\" ><label for=\"sk-estimator-id-6\" class=\"sk-toggleable__label sk-toggleable__label-arrow\">AdaBoostClassifier</label><div class=\"sk-toggleable__content\"><pre>AdaBoostClassifier(estimator=LogisticRegression())</pre></div></div></div><div class=\"sk-parallel\"><div class=\"sk-parallel-item\"><div class=\"sk-item\"><div class=\"sk-label-container\"><div class=\"sk-label sk-toggleable\"><input class=\"sk-toggleable__control sk-hidden--visually\" id=\"sk-estimator-id-7\" type=\"checkbox\" ><label for=\"sk-estimator-id-7\" class=\"sk-toggleable__label sk-toggleable__label-arrow\">estimator: LogisticRegression</label><div class=\"sk-toggleable__content\"><pre>LogisticRegression()</pre></div></div></div><div class=\"sk-serial\"><div class=\"sk-item\"><div class=\"sk-estimator sk-toggleable\"><input class=\"sk-toggleable__control sk-hidden--visually\" id=\"sk-estimator-id-8\" type=\"checkbox\" ><label for=\"sk-estimator-id-8\" class=\"sk-toggleable__label sk-toggleable__label-arrow\">LogisticRegression</label><div class=\"sk-toggleable__content\"><pre>LogisticRegression()</pre></div></div></div></div></div></div></div></div></div></div>"
            ]
          },
          "metadata": {},
          "execution_count": 82
        }
      ]
    },
    {
      "cell_type": "code",
      "source": [
        "Y_pred_adalr = ada_lr.predict(X_test)"
      ],
      "metadata": {
        "id": "x9ok9P8LBNMG"
      },
      "execution_count": 83,
      "outputs": []
    },
    {
      "cell_type": "code",
      "source": [
        "print(classification_report(Y_test, Y_pred_adalr))"
      ],
      "metadata": {
        "colab": {
          "base_uri": "https://localhost:8080/"
        },
        "id": "YpfdOpcRBZ1P",
        "outputId": "e57bcacc-2c92-48fc-b89f-807e2832b720"
      },
      "execution_count": 84,
      "outputs": [
        {
          "output_type": "stream",
          "name": "stdout",
          "text": [
            "              precision    recall  f1-score   support\n",
            "\n",
            "           0       0.97      0.49      0.65       522\n",
            "           1       0.73      0.55      0.63       962\n",
            "           2       0.11      0.81      0.19       132\n",
            "           3       1.00      1.00      1.00       391\n",
            "           4       0.96      0.72      0.82       711\n",
            "           5       0.14      0.30      0.19       116\n",
            "           6       0.25      0.33      0.28       168\n",
            "           7       0.40      0.65      0.50       178\n",
            "           8       0.00      0.00      0.00       313\n",
            "           9       0.00      0.00      0.00       197\n",
            "\n",
            "    accuracy                           0.54      3690\n",
            "   macro avg       0.46      0.49      0.43      3690\n",
            "weighted avg       0.66      0.54      0.57      3690\n",
            "\n"
          ]
        },
        {
          "output_type": "stream",
          "name": "stderr",
          "text": [
            "/usr/local/lib/python3.10/dist-packages/sklearn/metrics/_classification.py:1344: UndefinedMetricWarning: Precision and F-score are ill-defined and being set to 0.0 in labels with no predicted samples. Use `zero_division` parameter to control this behavior.\n",
            "  _warn_prf(average, modifier, msg_start, len(result))\n",
            "/usr/local/lib/python3.10/dist-packages/sklearn/metrics/_classification.py:1344: UndefinedMetricWarning: Precision and F-score are ill-defined and being set to 0.0 in labels with no predicted samples. Use `zero_division` parameter to control this behavior.\n",
            "  _warn_prf(average, modifier, msg_start, len(result))\n",
            "/usr/local/lib/python3.10/dist-packages/sklearn/metrics/_classification.py:1344: UndefinedMetricWarning: Precision and F-score are ill-defined and being set to 0.0 in labels with no predicted samples. Use `zero_division` parameter to control this behavior.\n",
            "  _warn_prf(average, modifier, msg_start, len(result))\n"
          ]
        }
      ]
    },
    {
      "cell_type": "markdown",
      "source": [
        "###KNN"
      ],
      "metadata": {
        "id": "Zy1KTtpy6ZBT"
      }
    },
    {
      "cell_type": "code",
      "source": [
        "from sklearn.neighbors import KNeighborsClassifier"
      ],
      "metadata": {
        "id": "8FYVwfI0BdIs"
      },
      "execution_count": 85,
      "outputs": []
    },
    {
      "cell_type": "code",
      "source": [
        "knn = KNeighborsClassifier(n_neighbors=10)"
      ],
      "metadata": {
        "id": "kpdLLGZzCpd_"
      },
      "execution_count": 86,
      "outputs": []
    },
    {
      "cell_type": "code",
      "source": [
        "knn.fit(X_train, Y_train)"
      ],
      "metadata": {
        "colab": {
          "base_uri": "https://localhost:8080/",
          "height": 129
        },
        "id": "STpOlarLCuL2",
        "outputId": "04053d16-d0fc-47bb-c630-ad4d028f27b9"
      },
      "execution_count": 87,
      "outputs": [
        {
          "output_type": "stream",
          "name": "stderr",
          "text": [
            "/usr/local/lib/python3.10/dist-packages/sklearn/neighbors/_classification.py:215: DataConversionWarning: A column-vector y was passed when a 1d array was expected. Please change the shape of y to (n_samples,), for example using ravel().\n",
            "  return self._fit(X, y)\n"
          ]
        },
        {
          "output_type": "execute_result",
          "data": {
            "text/plain": [
              "KNeighborsClassifier(n_neighbors=10)"
            ],
            "text/html": [
              "<style>#sk-container-id-7 {color: black;background-color: white;}#sk-container-id-7 pre{padding: 0;}#sk-container-id-7 div.sk-toggleable {background-color: white;}#sk-container-id-7 label.sk-toggleable__label {cursor: pointer;display: block;width: 100%;margin-bottom: 0;padding: 0.3em;box-sizing: border-box;text-align: center;}#sk-container-id-7 label.sk-toggleable__label-arrow:before {content: \"▸\";float: left;margin-right: 0.25em;color: #696969;}#sk-container-id-7 label.sk-toggleable__label-arrow:hover:before {color: black;}#sk-container-id-7 div.sk-estimator:hover label.sk-toggleable__label-arrow:before {color: black;}#sk-container-id-7 div.sk-toggleable__content {max-height: 0;max-width: 0;overflow: hidden;text-align: left;background-color: #f0f8ff;}#sk-container-id-7 div.sk-toggleable__content pre {margin: 0.2em;color: black;border-radius: 0.25em;background-color: #f0f8ff;}#sk-container-id-7 input.sk-toggleable__control:checked~div.sk-toggleable__content {max-height: 200px;max-width: 100%;overflow: auto;}#sk-container-id-7 input.sk-toggleable__control:checked~label.sk-toggleable__label-arrow:before {content: \"▾\";}#sk-container-id-7 div.sk-estimator input.sk-toggleable__control:checked~label.sk-toggleable__label {background-color: #d4ebff;}#sk-container-id-7 div.sk-label input.sk-toggleable__control:checked~label.sk-toggleable__label {background-color: #d4ebff;}#sk-container-id-7 input.sk-hidden--visually {border: 0;clip: rect(1px 1px 1px 1px);clip: rect(1px, 1px, 1px, 1px);height: 1px;margin: -1px;overflow: hidden;padding: 0;position: absolute;width: 1px;}#sk-container-id-7 div.sk-estimator {font-family: monospace;background-color: #f0f8ff;border: 1px dotted black;border-radius: 0.25em;box-sizing: border-box;margin-bottom: 0.5em;}#sk-container-id-7 div.sk-estimator:hover {background-color: #d4ebff;}#sk-container-id-7 div.sk-parallel-item::after {content: \"\";width: 100%;border-bottom: 1px solid gray;flex-grow: 1;}#sk-container-id-7 div.sk-label:hover label.sk-toggleable__label {background-color: #d4ebff;}#sk-container-id-7 div.sk-serial::before {content: \"\";position: absolute;border-left: 1px solid gray;box-sizing: border-box;top: 0;bottom: 0;left: 50%;z-index: 0;}#sk-container-id-7 div.sk-serial {display: flex;flex-direction: column;align-items: center;background-color: white;padding-right: 0.2em;padding-left: 0.2em;position: relative;}#sk-container-id-7 div.sk-item {position: relative;z-index: 1;}#sk-container-id-7 div.sk-parallel {display: flex;align-items: stretch;justify-content: center;background-color: white;position: relative;}#sk-container-id-7 div.sk-item::before, #sk-container-id-7 div.sk-parallel-item::before {content: \"\";position: absolute;border-left: 1px solid gray;box-sizing: border-box;top: 0;bottom: 0;left: 50%;z-index: -1;}#sk-container-id-7 div.sk-parallel-item {display: flex;flex-direction: column;z-index: 1;position: relative;background-color: white;}#sk-container-id-7 div.sk-parallel-item:first-child::after {align-self: flex-end;width: 50%;}#sk-container-id-7 div.sk-parallel-item:last-child::after {align-self: flex-start;width: 50%;}#sk-container-id-7 div.sk-parallel-item:only-child::after {width: 0;}#sk-container-id-7 div.sk-dashed-wrapped {border: 1px dashed gray;margin: 0 0.4em 0.5em 0.4em;box-sizing: border-box;padding-bottom: 0.4em;background-color: white;}#sk-container-id-7 div.sk-label label {font-family: monospace;font-weight: bold;display: inline-block;line-height: 1.2em;}#sk-container-id-7 div.sk-label-container {text-align: center;}#sk-container-id-7 div.sk-container {/* jupyter's `normalize.less` sets `[hidden] { display: none; }` but bootstrap.min.css set `[hidden] { display: none !important; }` so we also need the `!important` here to be able to override the default hidden behavior on the sphinx rendered scikit-learn.org. See: https://github.com/scikit-learn/scikit-learn/issues/21755 */display: inline-block !important;position: relative;}#sk-container-id-7 div.sk-text-repr-fallback {display: none;}</style><div id=\"sk-container-id-7\" class=\"sk-top-container\"><div class=\"sk-text-repr-fallback\"><pre>KNeighborsClassifier(n_neighbors=10)</pre><b>In a Jupyter environment, please rerun this cell to show the HTML representation or trust the notebook. <br />On GitHub, the HTML representation is unable to render, please try loading this page with nbviewer.org.</b></div><div class=\"sk-container\" hidden><div class=\"sk-item\"><div class=\"sk-estimator sk-toggleable\"><input class=\"sk-toggleable__control sk-hidden--visually\" id=\"sk-estimator-id-9\" type=\"checkbox\" checked><label for=\"sk-estimator-id-9\" class=\"sk-toggleable__label sk-toggleable__label-arrow\">KNeighborsClassifier</label><div class=\"sk-toggleable__content\"><pre>KNeighborsClassifier(n_neighbors=10)</pre></div></div></div></div></div>"
            ]
          },
          "metadata": {},
          "execution_count": 87
        }
      ]
    },
    {
      "cell_type": "code",
      "source": [
        "Y_pred_knn = knn.predict(X_test)"
      ],
      "metadata": {
        "id": "5554hJZDCwXY"
      },
      "execution_count": 88,
      "outputs": []
    },
    {
      "cell_type": "code",
      "source": [
        "print(classification_report(Y_test, Y_pred_knn))"
      ],
      "metadata": {
        "colab": {
          "base_uri": "https://localhost:8080/"
        },
        "id": "IPQvDZR9C4WP",
        "outputId": "10c5200b-14bc-4f12-baaa-c6904b1baf82"
      },
      "execution_count": 89,
      "outputs": [
        {
          "output_type": "stream",
          "name": "stdout",
          "text": [
            "              precision    recall  f1-score   support\n",
            "\n",
            "           0       0.89      0.74      0.81       522\n",
            "           1       0.78      0.56      0.65       962\n",
            "           2       0.15      0.62      0.24       132\n",
            "           3       1.00      1.00      1.00       391\n",
            "           4       0.92      0.82      0.87       711\n",
            "           5       0.16      0.42      0.23       116\n",
            "           6       0.26      0.50      0.34       168\n",
            "           7       0.41      0.51      0.45       178\n",
            "           8       0.67      0.21      0.32       313\n",
            "           9       0.64      0.15      0.25       197\n",
            "\n",
            "    accuracy                           0.62      3690\n",
            "   macro avg       0.59      0.55      0.52      3690\n",
            "weighted avg       0.75      0.62      0.65      3690\n",
            "\n"
          ]
        }
      ]
    },
    {
      "cell_type": "markdown",
      "source": [
        "###Since random forset is performing well we use the predictions made my random forest"
      ],
      "metadata": {
        "id": "rDKTyfvR8NiI"
      }
    },
    {
      "cell_type": "code",
      "source": [
        "top = pd.DataFrame(top)\n",
        "for i in range(top.shape[0]):\n",
        "  pred_pos = rf.predict(top.iloc[[i]])[0]\n",
        "\n",
        "  pred = list(mapping.keys())[list(mapping.values()).index(pred_pos)]\n",
        "  true_pos = list(mapping.keys())[list(mapping.values()).index(top_pos.iloc[i])]\n",
        "\n",
        "  print('Name: {} \\nPredictions: {} \\nTrue Position: {} \\n'.format(top_names.iloc[i], pred, true_pos))"
      ],
      "metadata": {
        "colab": {
          "base_uri": "https://localhost:8080/"
        },
        "id": "yRAwIbq66gxy",
        "outputId": "8bfdc595-261c-4833-fce5-208191349461"
      },
      "execution_count": 90,
      "outputs": [
        {
          "output_type": "stream",
          "name": "stdout",
          "text": [
            "Name: L. Messi \n",
            "Predictions: CM \n",
            "True Position: CM \n",
            "\n",
            "Name: R. Lewandowski \n",
            "Predictions: CF \n",
            "True Position: CF \n",
            "\n",
            "Name: K. De Bruyne \n",
            "Predictions: CM \n",
            "True Position: CM \n",
            "\n",
            "Name: K. Mbappé \n",
            "Predictions: CF \n",
            "True Position: CF \n",
            "\n",
            "Name: K. Benzema \n",
            "Predictions: CF \n",
            "True Position: CF \n",
            "\n",
            "Name: M. Salah \n",
            "Predictions: RW \n",
            "True Position: RW \n",
            "\n",
            "Name: T. Courtois \n",
            "Predictions: GK \n",
            "True Position: GK \n",
            "\n",
            "Name: M. Neuer \n",
            "Predictions: GK \n",
            "True Position: GK \n",
            "\n",
            "Name: Cristiano Ronaldo \n",
            "Predictions: CF \n",
            "True Position: CF \n",
            "\n",
            "Name: V. van Dijk \n",
            "Predictions: CB \n",
            "True Position: CB \n",
            "\n",
            "Name: S. Mané \n",
            "Predictions: RW \n",
            "True Position: LM \n",
            "\n",
            "Name: N. Kanté \n",
            "Predictions: CM \n",
            "True Position: CM \n",
            "\n",
            "Name: J. Kimmich \n",
            "Predictions: CM \n",
            "True Position: CM \n",
            "\n",
            "Name: Ederson \n",
            "Predictions: GK \n",
            "True Position: GK \n",
            "\n",
            "Name: Alisson \n",
            "Predictions: GK \n",
            "True Position: GK \n",
            "\n",
            "Name: J. Oblak \n",
            "Predictions: GK \n",
            "True Position: GK \n",
            "\n",
            "Name: Casemiro \n",
            "Predictions: CB \n",
            "True Position: CM \n",
            "\n",
            "Name: H. Son \n",
            "Predictions: LW \n",
            "True Position: LW \n",
            "\n",
            "Name: H. Kane \n",
            "Predictions: CF \n",
            "True Position: CF \n",
            "\n",
            "Name: Neymar Jr \n",
            "Predictions: LW \n",
            "True Position: LW \n",
            "\n"
          ]
        }
      ]
    },
    {
      "cell_type": "code",
      "source": [],
      "metadata": {
        "id": "1DkfQTRj6j8i"
      },
      "execution_count": null,
      "outputs": []
    }
  ]
}